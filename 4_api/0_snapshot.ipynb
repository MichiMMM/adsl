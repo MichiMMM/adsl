{
 "cells": [
  {
   "cell_type": "markdown",
   "metadata": {},
   "source": [
    "## Snapshot and GraphQL"
   ]
  },
  {
   "cell_type": "code",
   "execution_count": 1,
   "metadata": {},
   "outputs": [],
   "source": [
    "import requests\n",
    "import pandas as pd\n",
    "import numpy as np"
   ]
  },
  {
   "cell_type": "markdown",
   "metadata": {},
   "source": [
    "Snapshot Endpoints\n",
    "\n",
    "https://docs.snapshot.org/"
   ]
  },
  {
   "cell_type": "code",
   "execution_count": 2,
   "metadata": {},
   "outputs": [],
   "source": [
    "ENDPOINT_DEMO = 'https://testnet.snapshot.org/graphql'\n",
    "\n",
    "ENDPOINT_PRO = 'https://hub.snapshot.org/graphql'\n",
    "\n",
    "\n",
    "ENDPOINT = ENDPOINT_PRO\n"
   ]
  },
  {
   "cell_type": "markdown",
   "metadata": {},
   "source": [
    "We can make GraphQL queries with standard POST requests."
   ]
  },
  {
   "cell_type": "code",
   "execution_count": 3,
   "metadata": {},
   "outputs": [],
   "source": [
    "# https://datagy.io/python-requests-authentication/\n",
    "\n",
    "def api(query, params=None):\n",
    "\n",
    "    response = requests.post(ENDPOINT,\n",
    "                            headers={                      \n",
    "                                'accept': 'application/json'\n",
    "                            },\n",
    "                            params={\n",
    "                                'query': query\n",
    "                            })\n",
    "\n",
    "    print(response)\n",
    "    return response.json()['data']\n"
   ]
  },
  {
   "cell_type": "code",
   "execution_count": 4,
   "metadata": {},
   "outputs": [
    {
     "name": "stdout",
     "output_type": "stream",
     "text": [
      "<Response [200]>\n"
     ]
    }
   ],
   "source": [
    "query = \"\"\"\n",
    "query {\n",
    "  space(id: \"yam.eth\") {\n",
    "    id\n",
    "    name\n",
    "    about\n",
    "    network\n",
    "    symbol\n",
    "    members\n",
    "  }\n",
    "}\n",
    "\"\"\"\n",
    "\n",
    "res = api(query)"
   ]
  },
  {
   "cell_type": "code",
   "execution_count": 5,
   "metadata": {},
   "outputs": [
    {
     "data": {
      "text/plain": [
       "{'space': {'id': 'yam.eth',\n",
       "  'name': 'Yam',\n",
       "  'about': 'Only delegated YAM may be used to vote on proposals. You can delegate to yourself or another address here: yam.finance/#/delegate',\n",
       "  'network': '1',\n",
       "  'symbol': 'YAM',\n",
       "  'members': ['0x683A78bA1f6b25E29fbBC9Cd1BFA29A51520De84',\n",
       "   '0xC3edCBe0F93a6258c3933e86fFaA3bcF12F8D695',\n",
       "   '0xEC3281124d4c2FCA8A88e3076C1E7749CfEcb7F2']}}"
      ]
     },
     "execution_count": 5,
     "metadata": {},
     "output_type": "execute_result"
    }
   ],
   "source": [
    "res\n"
   ]
  },
  {
   "cell_type": "code",
   "execution_count": 6,
   "metadata": {},
   "outputs": [
    {
     "name": "stdout",
     "output_type": "stream",
     "text": [
      "<Response [200]>\n"
     ]
    }
   ],
   "source": [
    "query = \"\"\"\n",
    "query {\n",
    "  spaces(\n",
    "    first: 20,\n",
    "    skip: 0,\n",
    "    orderBy: \"created\",\n",
    "    orderDirection: asc\n",
    "  ) {\n",
    "    id\n",
    "    name\n",
    "    about\n",
    "    network\n",
    "    symbol\n",
    "    strategies {\n",
    "      name\n",
    "      params\n",
    "    }\n",
    "    admins\n",
    "    members\n",
    "    filters {\n",
    "      minScore\n",
    "      onlyMembers\n",
    "    }\n",
    "    plugins\n",
    "  }\n",
    "}\n",
    "\"\"\"\n",
    "\n",
    "res = api(query)"
   ]
  },
  {
   "cell_type": "code",
   "execution_count": 7,
   "metadata": {},
   "outputs": [
    {
     "data": {
      "text/plain": [
       "{'spaces': [{'id': 'bonustrack.eth',\n",
       "   'name': 'Hi',\n",
       "   'about': '',\n",
       "   'network': '1',\n",
       "   'symbol': 'TICKET',\n",
       "   'strategies': [{'name': 'ticket', 'params': {'symbol': 'TICKET'}}],\n",
       "   'admins': [],\n",
       "   'members': ['0x24A12Fa313F57aF541d447c594072A992c605DCf',\n",
       "    '0x8BBE4Ac64246d600BC2889ef5d83809D138F03DF',\n",
       "    '0xeF8305E140ac520225DAf050e2f71d5fBcC543e7',\n",
       "    '0x107174D70b33523E83711EA4C3F4229cdB8A7Cb1',\n",
       "    '0x0b21Dbc34A953a35dFA629ad31e1cEE3dE0433Fb',\n",
       "    '0x40FDAa1bff3BB87bC70955Be6657edBFdBeb122e',\n",
       "    '0xcc6A949DB9b26a7173648d50Cf7C55e800E6585B',\n",
       "    '0xC1C8ac723Fd9Db3db6E947dF42aaEdd28058A31D'],\n",
       "   'filters': {'minScore': 0, 'onlyMembers': False},\n",
       "   'plugins': {'safeSnap': {'address': '0xeF8305E140ac520225DAf050e2f71d5fBcC543e7'}}},\n",
       "  {'id': 'fabien.eth',\n",
       "   'name': 'Fabien',\n",
       "   'about': 'This is nothing more than a test space.',\n",
       "   'network': '5',\n",
       "   'symbol': 'POINT',\n",
       "   'strategies': [{'name': 'whitelist',\n",
       "     'params': {'symbol': 'POINT',\n",
       "      'addresses': ['0xa478c2975ab1ea89e8196811f51a7b7ade33eb11',\n",
       "       '0xeF8305E140ac520225DAf050e2f71d5fBcC543e7',\n",
       "       '0x1B5D05c10bdeE94FAcfB8a5C1711DA8e9313FD2a']}}],\n",
       "   'admins': ['0xef8305e140ac520225daf050e2f71d5fbcc543e7',\n",
       "    '0x4c7909d6f029b3a5798143c843f4f8e5341a3473',\n",
       "    '0x556b14cbda79a36dc33fcd461a04a5bcb5dc2a70'],\n",
       "   'members': [],\n",
       "   'filters': {'minScore': 1, 'onlyMembers': True},\n",
       "   'plugins': {}},\n",
       "  {'id': 'ichi.eth',\n",
       "   'name': 'ichi.farm',\n",
       "   'about': '',\n",
       "   'network': '1',\n",
       "   'symbol': 'ICHIPOWAH',\n",
       "   'strategies': [{'name': 'erc20-balance-of',\n",
       "     'params': {'symbol': 'ICHIPOWAH',\n",
       "      'address': '0x873902a3c0731EcC1F2075435FE035ACCeEd5459',\n",
       "      'decimals': 9}}],\n",
       "   'admins': [],\n",
       "   'members': ['0x873902a3c0731EcC1F2075435FE035ACCeEd5459'],\n",
       "   'filters': {'minScore': 0, 'onlyMembers': False},\n",
       "   'plugins': {}},\n",
       "  {'id': 'loyalfinance.eth',\n",
       "   'name': 'loyal.finance',\n",
       "   'about': '',\n",
       "   'network': '1',\n",
       "   'symbol': 'rLYL',\n",
       "   'strategies': [{'name': 'erc20-balance-of',\n",
       "     'params': {'symbol': 'RLYL',\n",
       "      'address': '0x0C9BbF4364F90db22B1B21b45177069a078842Aa',\n",
       "      'decimals': 18}}],\n",
       "   'admins': [],\n",
       "   'members': [],\n",
       "   'filters': {'minScore': 0, 'onlyMembers': False},\n",
       "   'plugins': {}},\n",
       "  {'id': 'damflux.eth',\n",
       "   'name': 'FLUX',\n",
       "   'about': '',\n",
       "   'network': '1',\n",
       "   'symbol': 'FLUX',\n",
       "   'strategies': [{'name': 'erc20-balance-of',\n",
       "     'params': {'symbol': 'FLUX',\n",
       "      'address': '0x469eDA64aEd3A3Ad6f868c44564291aA415cB1d9',\n",
       "      'decimals': 18}}],\n",
       "   'admins': [],\n",
       "   'members': [],\n",
       "   'filters': {'minScore': 0, 'onlyMembers': False},\n",
       "   'plugins': {}},\n",
       "  {'id': 'ufode.eth',\n",
       "   'name': 'UFO Finance',\n",
       "   'about': '',\n",
       "   'network': '1',\n",
       "   'symbol': 'UFO',\n",
       "   'strategies': [{'name': 'erc20-balance-of',\n",
       "     'params': {'symbol': 'DAI',\n",
       "      'address': '0x6B175474E89094C44Da98b954EedeAC495271d0F',\n",
       "      'decimals': 18}}],\n",
       "   'admins': [],\n",
       "   'members': [],\n",
       "   'filters': {'minScore': 0, 'onlyMembers': False},\n",
       "   'plugins': {}},\n",
       "  {'id': 'boringvote.eth',\n",
       "   'name': 'BoringDAO',\n",
       "   'about': '',\n",
       "   'network': '1',\n",
       "   'symbol': 'BoringDAO VS',\n",
       "   'strategies': [{'name': 'contract-call',\n",
       "     'params': {'symbol': 'BoringDAO VS',\n",
       "      'address': '0xdd018AD3D79bF8aA7C2E9726b566f7aeeF693618',\n",
       "      'decimals': 18,\n",
       "      'methodABI': {'name': 'balanceOf',\n",
       "       'type': 'function',\n",
       "       'inputs': [{'name': '_voter',\n",
       "         'type': 'address',\n",
       "         'internalType': 'address'}],\n",
       "       'outputs': [{'name': '', 'type': 'uint256', 'internalType': 'uint256'}],\n",
       "       'stateMutability': 'view'}}}],\n",
       "   'admins': [],\n",
       "   'members': [],\n",
       "   'filters': {'minScore': 0, 'onlyMembers': False},\n",
       "   'plugins': {}},\n",
       "  {'id': 'relayernetwork.eth',\n",
       "   'name': 'Relayer Network',\n",
       "   'about': '',\n",
       "   'network': '1',\n",
       "   'symbol': 'RLR',\n",
       "   'strategies': [{'name': 'erc20-balance-of',\n",
       "     'params': {'symbol': 'RLR',\n",
       "      'address': '0x0e3ef895c59e7db27214ab5bbf56347ce115a3f4',\n",
       "      'decimals': 18}},\n",
       "    {'name': 'erc20-balance-of-delegation',\n",
       "     'params': {'symbol': 'RLR',\n",
       "      'address': '0x0e3ef895c59e7db27214ab5bbf56347ce115a3f4',\n",
       "      'decimals': 18}}],\n",
       "   'admins': [],\n",
       "   'members': [],\n",
       "   'filters': {'minScore': 0, 'onlyMembers': False},\n",
       "   'plugins': {}},\n",
       "  {'id': 'prophetfinance.eth',\n",
       "   'name': 'prophet.finance',\n",
       "   'about': '',\n",
       "   'network': '1',\n",
       "   'symbol': 'PROPHET',\n",
       "   'strategies': [{'name': 'erc20-balance-of',\n",
       "     'params': {'symbol': 'PROPHET',\n",
       "      'address': '0x8d5db0c1f0681071cb38a382ae6704588d9da587',\n",
       "      'decimals': 9}}],\n",
       "   'admins': [],\n",
       "   'members': ['0xcA670BC7D254C2a4b050Dbb05aD8f3db57Fd43Cd',\n",
       "    '0xe2f071Fa6a421c6Bd7DF3635cC001c569182B950'],\n",
       "   'filters': {'minScore': 0, 'onlyMembers': False},\n",
       "   'plugins': {}},\n",
       "  {'id': 'liddao.eth',\n",
       "   'name': 'Lid Dao',\n",
       "   'about': '',\n",
       "   'network': '1',\n",
       "   'symbol': 'Lid Dao',\n",
       "   'strategies': [{'name': 'erc20-balance-of',\n",
       "     'params': {'symbol': 'LID-vr',\n",
       "      'address': '0xb271e47E8AbD99df2f6275793eF838B0Ee0866c9',\n",
       "      'decimals': 18}}],\n",
       "   'admins': [],\n",
       "   'members': ['0x4735581201F4cAD63CCa0716AB4ac7D6d9CFB0ed'],\n",
       "   'filters': {'minScore': 0, 'onlyMembers': False},\n",
       "   'plugins': {}},\n",
       "  {'id': 'idlefinance.eth',\n",
       "   'name': 'Idle DAO',\n",
       "   'about': 'Idle DAO off-chain polls for IDLE holders',\n",
       "   'network': '1',\n",
       "   'symbol': 'IDLE',\n",
       "   'strategies': [{'name': 'erc20-balance-of',\n",
       "     'params': {'symbol': 'IDLE',\n",
       "      'address': '0x875773784Af8135eA0ef43b5a374AaD105c5D39e',\n",
       "      'decimals': 18}},\n",
       "    {'name': 'erc20-balance-of',\n",
       "     'params': {'start': 11737307,\n",
       "      'symbol': 'LockedIDLE',\n",
       "      'address': '0xF241a0151841AE2E6ea750D50C5794b5EDC31D99',\n",
       "      'decimals': 18}},\n",
       "    {'name': 'uniswap',\n",
       "     'params': {'symbol': 'IDLE',\n",
       "      'address': '0x875773784Af8135eA0ef43b5a374AaD105c5D39e',\n",
       "      'decimals': 18}},\n",
       "    {'name': 'sushiswap',\n",
       "     'params': {'symbol': 'IDLE',\n",
       "      'address': '0x875773784Af8135eA0ef43b5a374AaD105c5D39e',\n",
       "      'decimals': 18}},\n",
       "    {'name': 'erc20-balance-of-delegation',\n",
       "     'params': {'symbol': 'IDLE',\n",
       "      'address': '0x875773784Af8135eA0ef43b5a374AaD105c5D39e',\n",
       "      'decimals': 18,\n",
       "      'delegationSpace': 'idlefinance.eth'}}],\n",
       "   'admins': ['0xe4E69ef860D3018B61A25134D60678be8628f780',\n",
       "    '0xb373F5f09d9875b94661776201165D01a7AE7bF7'],\n",
       "   'members': ['0xf27d7e8E96e891D77F42E1d88dA872A1cFaFe91a',\n",
       "    '0x4AF7cfbDbeF5ba845476652b79c0157D923E8207',\n",
       "    '0x2fa92128ecE3901395448bf62Dd5Ff6a35871540',\n",
       "    '0xe09E513301ba3717cBF50d9e67F85fAC249bb74d',\n",
       "    '0xeA173648F959790baea225cE3E75dF8A53a6BDE5',\n",
       "    '0xb373F5f09d9875b94661776201165D01a7AE7bF7',\n",
       "    '0x30723bb508E84706297EeF689C20096907023897',\n",
       "    '0xbD2D55b7F1693C4Fb337a89aCB12f657D5acFc82',\n",
       "    '0xDeBa9cd00120Ea0BE15955Cc3FA4b2d3E66Aa65d',\n",
       "    '0xfdA462548Ce04282f4B6D6619823a7C64Fdc0185'],\n",
       "   'filters': {'minScore': 100, 'onlyMembers': False},\n",
       "   'plugins': {'hal': {}}},\n",
       "  {'id': 'scradclub.eth',\n",
       "   'name': 'SCRAD Club',\n",
       "   'about': '',\n",
       "   'network': '1',\n",
       "   'symbol': 'SMT',\n",
       "   'strategies': [{'name': 'erc20-balance-of',\n",
       "     'params': {'symbol': 'SMT',\n",
       "      'address': '0xa6c5651f3f7f81bea6097a1a694bf819adbd1cfd',\n",
       "      'decimals': 0}}],\n",
       "   'admins': [],\n",
       "   'members': ['0x58E603d9824976F7a3940C6B408F0Ffa523a216C'],\n",
       "   'filters': {'minScore': 0, 'onlyMembers': False},\n",
       "   'plugins': {}},\n",
       "  {'id': 'pub-finance.eth',\n",
       "   'name': 'pub-finance',\n",
       "   'about': '',\n",
       "   'network': '1',\n",
       "   'symbol': 'PINT',\n",
       "   'strategies': [{'name': 'erc20-balance-of',\n",
       "     'params': {'symbol': 'PINT',\n",
       "      'address': '0xFECBa472B2540C5a2d3700b2C9E06F0aa7dC6462',\n",
       "      'decimals': 18}}],\n",
       "   'admins': [],\n",
       "   'members': [],\n",
       "   'filters': {'minScore': 50000, 'onlyMembers': False},\n",
       "   'plugins': {}},\n",
       "  {'id': 'saffronfinance.eth',\n",
       "   'name': 'saffron.finance',\n",
       "   'about': 'Welcome to Saffron, a peer-to-peer collateralization and risk exchange protocol. SFI holders decide which proposals are implemented on-chain',\n",
       "   'network': '1',\n",
       "   'symbol': 'SFI',\n",
       "   'strategies': [{'name': 'saffron-finance',\n",
       "     'params': {'symbol': 'SFIV1',\n",
       "      'contracts': [{'label': 'SFI',\n",
       "        'tokenAddress': '0xb753428af26e81097e7fd17f40c88aaa3e04902c',\n",
       "        'votingScheme': 'oneToOne'},\n",
       "       {'label': 'TEAM_HODL_TOKEN',\n",
       "        'tokenAddress': '0x4e5ee20900898054e998fd1862742c28c651bf5d',\n",
       "        'votingScheme': 'oneToOne'}],\n",
       "      'dexLpTypes': [{'name': 'uniswap',\n",
       "        'lpToken': '0xC76225124F3CaAb07f609b1D147a31de43926cd6'},\n",
       "       {'name': 'sushiswap',\n",
       "        'lpToken': '0x23a9292830Fc80dB7f563eDb28D2fe6fB47f8624'}],\n",
       "      'votingSchemes': [{'name': 'oneToOne',\n",
       "        'type': 'DirectBoostScheme',\n",
       "        'multiplier': 1},\n",
       "       {'name': 'staking', 'type': 'DirectBoostScheme', 'multiplier': 1.1},\n",
       "       {'name': 'uniswap', 'type': 'LPReservePairScheme', 'multiplier': 1.1},\n",
       "       {'name': 'sushiswap',\n",
       "        'type': 'LPReservePairScheme',\n",
       "        'multiplier': 1.1}]}},\n",
       "    {'name': 'saffron-finance-v2',\n",
       "     'params': {'symbol': 'SAFF_STAK_V2',\n",
       "      'decimals': 18,\n",
       "      'multiplier': 1.1,\n",
       "      'stakingPool': '0x4eB4C5911e931667fE1647428F38401aB1661763',\n",
       "      'singleAssets': ['0xb753428af26E81097e7fD17f40c88aaA3E04902c']}}],\n",
       "   'admins': ['0x9CfEC36a7b09c469DDf0D1558Eb92F7A88ED796b'],\n",
       "   'members': ['0x9CfEC36a7b09c469DDf0D1558Eb92F7A88ED796b',\n",
       "    '0xD90B866039E8820c2Cd082840fceeD81Cef691F8',\n",
       "    '0x44b6eaEA64a0f0a8828B32a9B9E103CD5eBfBBEb'],\n",
       "   'filters': {'minScore': 0.1, 'onlyMembers': False},\n",
       "   'plugins': {}},\n",
       "  {'id': 'sovi.eth',\n",
       "   'name': 'sovi.finance',\n",
       "   'about': '',\n",
       "   'network': '1',\n",
       "   'symbol': 'SOVI',\n",
       "   'strategies': [{'name': 'erc20-balance-of',\n",
       "     'params': {'symbol': 'DAI',\n",
       "      'address': '0x6B175474E89094C44Da98b954EedeAC495271d0F',\n",
       "      'decimals': 18}}],\n",
       "   'admins': [],\n",
       "   'members': ['0x560C2B75c7B4e077C71D66aE4E18b688D099963f',\n",
       "    '0x02e8e50913F7Fc1a22F48C1e7012cdc80B03d25a'],\n",
       "   'filters': {'minScore': 1, 'onlyMembers': True},\n",
       "   'plugins': {}},\n",
       "  {'id': 'monportefeuille.eth',\n",
       "   'name': 'Monportefeuille',\n",
       "   'about': '',\n",
       "   'network': '1',\n",
       "   'symbol': 'CIRCL',\n",
       "   'strategies': [{'name': 'erc20-balance-of',\n",
       "     'params': {'symbol': 'CIRCL',\n",
       "      'address': '0x63a2ccd492e316eefab5b3326db3c7b0a94c3726',\n",
       "      'decimals': 18}}],\n",
       "   'admins': [],\n",
       "   'members': ['0xa921789802E13243C6827D37526Ce632eF4A138b'],\n",
       "   'filters': {'minScore': 250, 'onlyMembers': True},\n",
       "   'plugins': {}},\n",
       "  {'id': 'flowcommunity.eth',\n",
       "   'name': 'Flow Protocol',\n",
       "   'about': '',\n",
       "   'network': '1',\n",
       "   'symbol': 'FLOW',\n",
       "   'strategies': [{'name': 'erc20-balance-of',\n",
       "     'params': {'symbol': 'FLOW',\n",
       "      'address': '0xC6e64729931f60D2c8Bc70A27D66D9E0c28D1BF9',\n",
       "      'decimals': 18}}],\n",
       "   'admins': [],\n",
       "   'members': [],\n",
       "   'filters': {'minScore': 51, 'onlyMembers': False},\n",
       "   'plugins': {}},\n",
       "  {'id': 'tradersquare.eth',\n",
       "   'name': 'Trader Square',\n",
       "   'about': '',\n",
       "   'network': '1',\n",
       "   'symbol': 'TRS',\n",
       "   'strategies': [{'name': 'erc20-balance-of',\n",
       "     'params': {'symbol': 'TRS',\n",
       "      'address': '0x1Ef4d930097D30689B16945Aa8286C62Ce7f75dF',\n",
       "      'decimals': 4}}],\n",
       "   'admins': [],\n",
       "   'members': ['0xf4945a878d7B464cAA4d383B3988a652661897d2',\n",
       "    '0xe2d088Ee9872dFd340A6B3fb5d0fD6B245CBe34a',\n",
       "    '0x890F598d391f4bA5A2d903301eC78B7E12C935FC'],\n",
       "   'filters': {'minScore': 0, 'onlyMembers': True},\n",
       "   'plugins': {}},\n",
       "  {'id': 'xionetwork.eth',\n",
       "   'name': '(old) Blockzero Labs',\n",
       "   'about': '',\n",
       "   'network': '1',\n",
       "   'symbol': 'XIO',\n",
       "   'strategies': [{'name': 'erc20-balance-of',\n",
       "     'params': {'symbol': 'XIO',\n",
       "      'address': '0x0f7F961648aE6Db43C75663aC7E5414Eb79b5704',\n",
       "      'decimals': 18}},\n",
       "    {'name': 'uniswap',\n",
       "     'params': {'symbol': 'XIO',\n",
       "      'address': '0x0f7F961648aE6Db43C75663aC7E5414Eb79b5704',\n",
       "      'decimals': 18}}],\n",
       "   'admins': [],\n",
       "   'members': ['0x11231f7Dc863F36A6516Eb4EF052f195000e0000',\n",
       "    '0xA0018Abd370A8B5CA89452f0711B653786F6264E',\n",
       "    '0xb0faa146515792276465F084f7c23E52F3B40839',\n",
       "    '0xA8A68CDe3aF5a932BE6a29a7E4975D1975f3E3AC',\n",
       "    '0x4BF4e3a59add035c479CDE89d98103Cb65DCa941',\n",
       "    '0xE73C98667C82bb76E58c0d9B065B6A0C9ea2d088'],\n",
       "   'filters': {'minScore': 0, 'onlyMembers': True},\n",
       "   'plugins': {}},\n",
       "  {'id': 'minkfinance.eth',\n",
       "   'name': 'Mink Finance',\n",
       "   'about': '',\n",
       "   'network': '1',\n",
       "   'symbol': 'MINK',\n",
       "   'strategies': [{'name': 'erc20-balance-of',\n",
       "     'params': {'symbol': 'MINK',\n",
       "      'address': '0x1D47F2A94d5a6d59D2A37eF47CA7f71b661654c8',\n",
       "      'decimals': 18}}],\n",
       "   'admins': [],\n",
       "   'members': ['0x9650F4feDd1e6ce63621479A4bf5F4d743E6F958'],\n",
       "   'filters': {'minScore': 0, 'onlyMembers': False},\n",
       "   'plugins': {}}]}"
      ]
     },
     "execution_count": 7,
     "metadata": {},
     "output_type": "execute_result"
    }
   ],
   "source": [
    "\n",
    "res"
   ]
  },
  {
   "cell_type": "markdown",
   "metadata": {},
   "source": [
    "What if want to fetch all spaces? It's a bit cumbersome with standard POST requests, but we can use the [gql](https://pypi.org/project/gql/) client. "
   ]
  },
  {
   "cell_type": "markdown",
   "metadata": {},
   "source": [
    "#### GQL Client"
   ]
  },
  {
   "cell_type": "code",
   "execution_count": 8,
   "metadata": {},
   "outputs": [],
   "source": [
    "# !pip install gql\n",
    "# !pip install aiohttp \n",
    "from gql import gql, Client\n",
    "from gql.transport.aiohttp import AIOHTTPTransport\n"
   ]
  },
  {
   "cell_type": "code",
   "execution_count": 9,
   "metadata": {},
   "outputs": [],
   "source": [
    "transport = AIOHTTPTransport(url=ENDPOINT)\n",
    "client = Client(\n",
    "    transport=transport\n",
    "    #fetch_schema_from_transport=True\n",
    ")\n"
   ]
  },
  {
   "cell_type": "markdown",
   "metadata": {},
   "source": [
    "Let's test a simple query.\n",
    "First, we need build it, when we execute it.\n",
    "\n",
    "_Note:_ gql will throw an error if the query is malformed."
   ]
  },
  {
   "cell_type": "code",
   "execution_count": 10,
   "metadata": {},
   "outputs": [],
   "source": [
    "space_query = gql(\n",
    "\"\"\"\n",
    "query {\n",
    "space(id: \"yam.eth\") {\n",
    "    id\n",
    "    name\n",
    "    about\n",
    "    network\n",
    "    symbol\n",
    "    members\n",
    "    }\n",
    "}\n",
    "\"\"\")"
   ]
  },
  {
   "cell_type": "code",
   "execution_count": null,
   "metadata": {},
   "outputs": [],
   "source": [
    "## Error in Jupyter-like environments.\n",
    "result = client.execute(space_query)\n",
    "print(result)"
   ]
  },
  {
   "cell_type": "code",
   "execution_count": null,
   "metadata": {},
   "outputs": [],
   "source": [
    "result = await client.execute_async(space_query)\n",
    "print(result)"
   ]
  },
  {
   "cell_type": "markdown",
   "metadata": {},
   "source": [
    "#### GraphQL Variables\n",
    "\n",
    "Now we want to fetch _all_ spaces.\n",
    "\n",
    "We need to use a special feature of GraphQL, that is the ability to pass **variables** into queries.\n",
    "\n",
    "Variables are identified by the dollar sign `$` and must indicate their type (e.g., `Int`). \n",
    "\n",
    "If a variable is mandatory, it is followed by an exclamation mark."
   ]
  },
  {
   "cell_type": "code",
   "execution_count": 13,
   "metadata": {},
   "outputs": [],
   "source": [
    "spaces_query = gql(\"\"\"\n",
    "  query ($first: Int!, $skip: Int!) {\n",
    "    spaces(\n",
    "      first: $first,\n",
    "      skip: $skip,\n",
    "      orderBy: \"created\",\n",
    "      orderDirection: asc\n",
    "    ) \n",
    "    {\n",
    "      id\n",
    "      name\n",
    "      about\n",
    "      network\n",
    "      symbol\n",
    "      strategies {\n",
    "        name\n",
    "        params\n",
    "      }\n",
    "      admins\n",
    "      members\n",
    "      filters {\n",
    "        minScore\n",
    "        onlyMembers\n",
    "      }\n",
    "      plugins\n",
    "    }\n",
    "  }\n",
    "\"\"\")\n"
   ]
  },
  {
   "cell_type": "code",
   "execution_count": 14,
   "metadata": {},
   "outputs": [],
   "source": [
    "## spaces_tmp is a temp variable we can use to store partial computations\n",
    "## in case an error (e.g., a timeout) occurs\n",
    "spaces_tmp = []"
   ]
  },
  {
   "cell_type": "code",
   "execution_count": 18,
   "metadata": {},
   "outputs": [
    {
     "ename": "TransportQueryError",
     "evalue": "{'message': 'The `skip` argument must not be greater than 30000', 'locations': [{'line': 2, 'column': 3}], 'path': ['spaces']}",
     "output_type": "error",
     "traceback": [
      "\u001b[1;31m---------------------------------------------------------------------------\u001b[0m",
      "\u001b[1;31mTransportQueryError\u001b[0m                       Traceback (most recent call last)",
      "\u001b[1;32mc:\\Users\\stefa\\www\\adsl\\4_api\\0_snapshot.ipynb Cell 22\u001b[0m line \u001b[0;36m8\n\u001b[0;32m      <a href='vscode-notebook-cell:/c%3A/Users/stefa/www/adsl/4_api/0_snapshot.ipynb#X30sZmlsZQ%3D%3D?line=5'>6</a>\u001b[0m \u001b[39mwhile\u001b[39;00m fetch:\n\u001b[0;32m      <a href='vscode-notebook-cell:/c%3A/Users/stefa/www/adsl/4_api/0_snapshot.ipynb#X30sZmlsZQ%3D%3D?line=6'>7</a>\u001b[0m     \u001b[39mvars\u001b[39m \u001b[39m=\u001b[39m {\u001b[39m\"\u001b[39m\u001b[39mfirst\u001b[39m\u001b[39m\"\u001b[39m: first, \u001b[39m\"\u001b[39m\u001b[39mskip\u001b[39m\u001b[39m\"\u001b[39m: skip}\n\u001b[1;32m----> <a href='vscode-notebook-cell:/c%3A/Users/stefa/www/adsl/4_api/0_snapshot.ipynb#X30sZmlsZQ%3D%3D?line=7'>8</a>\u001b[0m     res \u001b[39m=\u001b[39m \u001b[39mawait\u001b[39;00m client\u001b[39m.\u001b[39mexecute_async(spaces_query, variable_values\u001b[39m=\u001b[39m\u001b[39mvars\u001b[39m)\n\u001b[0;32m      <a href='vscode-notebook-cell:/c%3A/Users/stefa/www/adsl/4_api/0_snapshot.ipynb#X30sZmlsZQ%3D%3D?line=8'>9</a>\u001b[0m     \u001b[39m# print(type(res))\u001b[39;00m\n\u001b[0;32m     <a href='vscode-notebook-cell:/c%3A/Users/stefa/www/adsl/4_api/0_snapshot.ipynb#X30sZmlsZQ%3D%3D?line=9'>10</a>\u001b[0m     \u001b[39m# print(res)\u001b[39;00m\n\u001b[0;32m     <a href='vscode-notebook-cell:/c%3A/Users/stefa/www/adsl/4_api/0_snapshot.ipynb#X30sZmlsZQ%3D%3D?line=11'>12</a>\u001b[0m     \u001b[39mif\u001b[39;00m \u001b[39mnot\u001b[39;00m res[\u001b[39m'\u001b[39m\u001b[39mspaces\u001b[39m\u001b[39m'\u001b[39m]:\n",
      "File \u001b[1;32mc:\\Users\\stefa\\anaconda3\\lib\\site-packages\\gql\\client.py:285\u001b[0m, in \u001b[0;36mClient.execute_async\u001b[1;34m(self, document, variable_values, operation_name, serialize_variables, parse_result, get_execution_result, **kwargs)\u001b[0m\n\u001b[0;32m    283\u001b[0m \u001b[39m\"\"\":meta private:\"\"\"\u001b[39;00m\n\u001b[0;32m    284\u001b[0m \u001b[39masync\u001b[39;00m \u001b[39mwith\u001b[39;00m \u001b[39mself\u001b[39m \u001b[39mas\u001b[39;00m session:\n\u001b[1;32m--> 285\u001b[0m     \u001b[39mreturn\u001b[39;00m \u001b[39mawait\u001b[39;00m session\u001b[39m.\u001b[39mexecute(\n\u001b[0;32m    286\u001b[0m         document,\n\u001b[0;32m    287\u001b[0m         variable_values\u001b[39m=\u001b[39mvariable_values,\n\u001b[0;32m    288\u001b[0m         operation_name\u001b[39m=\u001b[39moperation_name,\n\u001b[0;32m    289\u001b[0m         serialize_variables\u001b[39m=\u001b[39mserialize_variables,\n\u001b[0;32m    290\u001b[0m         parse_result\u001b[39m=\u001b[39mparse_result,\n\u001b[0;32m    291\u001b[0m         get_execution_result\u001b[39m=\u001b[39mget_execution_result,\n\u001b[0;32m    292\u001b[0m         \u001b[39m*\u001b[39m\u001b[39m*\u001b[39mkwargs,\n\u001b[0;32m    293\u001b[0m     )\n",
      "File \u001b[1;32mc:\\Users\\stefa\\anaconda3\\lib\\site-packages\\gql\\client.py:1231\u001b[0m, in \u001b[0;36mAsyncClientSession.execute\u001b[1;34m(self, document, variable_values, operation_name, serialize_variables, parse_result, get_execution_result, **kwargs)\u001b[0m\n\u001b[0;32m   1229\u001b[0m \u001b[39m# Raise an error if an error is returned in the ExecutionResult object\u001b[39;00m\n\u001b[0;32m   1230\u001b[0m \u001b[39mif\u001b[39;00m result\u001b[39m.\u001b[39merrors:\n\u001b[1;32m-> 1231\u001b[0m     \u001b[39mraise\u001b[39;00m TransportQueryError(\n\u001b[0;32m   1232\u001b[0m         \u001b[39mstr\u001b[39m(result\u001b[39m.\u001b[39merrors[\u001b[39m0\u001b[39m]),\n\u001b[0;32m   1233\u001b[0m         errors\u001b[39m=\u001b[39mresult\u001b[39m.\u001b[39merrors,\n\u001b[0;32m   1234\u001b[0m         data\u001b[39m=\u001b[39mresult\u001b[39m.\u001b[39mdata,\n\u001b[0;32m   1235\u001b[0m         extensions\u001b[39m=\u001b[39mresult\u001b[39m.\u001b[39mextensions,\n\u001b[0;32m   1236\u001b[0m     )\n\u001b[0;32m   1238\u001b[0m \u001b[39massert\u001b[39;00m (\n\u001b[0;32m   1239\u001b[0m     result\u001b[39m.\u001b[39mdata \u001b[39mis\u001b[39;00m \u001b[39mnot\u001b[39;00m \u001b[39mNone\u001b[39;00m\n\u001b[0;32m   1240\u001b[0m ), \u001b[39m\"\u001b[39m\u001b[39mTransport returned an ExecutionResult without data or errors\u001b[39m\u001b[39m\"\u001b[39m\n\u001b[0;32m   1242\u001b[0m \u001b[39mif\u001b[39;00m get_execution_result:\n",
      "\u001b[1;31mTransportQueryError\u001b[0m: {'message': 'The `skip` argument must not be greater than 30000', 'locations': [{'line': 2, 'column': 3}], 'path': ['spaces']}"
     ]
    }
   ],
   "source": [
    "## Fetch'em all!\n",
    "spaces = spaces_tmp\n",
    "first = 1000\n",
    "skip = len(spaces)\n",
    "fetch = True\n",
    "while fetch:\n",
    "    vars = {\"first\": first, \"skip\": skip}\n",
    "    res = await client.execute_async(spaces_query, variable_values=vars)\n",
    "    # print(type(res))\n",
    "    # print(res)\n",
    "    \n",
    "    if not res['spaces']:\n",
    "        print('**I am done fetching!**')\n",
    "        fetch = False\n",
    "    else:\n",
    "        spaces.extend(res['spaces'])\n",
    "        print(len(spaces))\n",
    "        skip += first# fetch = False\n"
   ]
  },
  {
   "cell_type": "code",
   "execution_count": 17,
   "metadata": {},
   "outputs": [
    {
     "data": {
      "text/plain": [
       "31000"
      ]
     },
     "execution_count": 17,
     "metadata": {},
     "output_type": "execute_result"
    }
   ],
   "source": [
    "len(spaces)\n"
   ]
  },
  {
   "cell_type": "markdown",
   "metadata": {},
   "source": [
    "Let's put everything in a Pandas data frame."
   ]
  },
  {
   "cell_type": "code",
   "execution_count": 24,
   "metadata": {},
   "outputs": [],
   "source": [
    "df = pd.DataFrame(spaces)\n",
    "\n",
    "df['id'] = df['id'].astype('string')\n",
    "df['name'] = df['name'].astype('string')\n",
    "df['about'] = df['about'].astype('string')\n",
    "# df['logo'] = df['logo'].astype('string')"
   ]
  },
  {
   "cell_type": "code",
   "execution_count": null,
   "metadata": {},
   "outputs": [],
   "source": [
    "df.info()"
   ]
  },
  {
   "cell_type": "code",
   "execution_count": 25,
   "metadata": {},
   "outputs": [],
   "source": [
    "df.to_json(\"../data/daos_snapshot.json\", orient=\"records\")\n",
    "\n",
    "## Visually explore the saved file.\n",
    "# Is it a mess? Prettify it with VS Code auto-formatter. \n",
    "# Don't you remember the shorcut? Check our python_warmup lecture.\n",
    " "
   ]
  },
  {
   "cell_type": "code",
   "execution_count": null,
   "metadata": {},
   "outputs": [],
   "source": [
    "df.head()\n"
   ]
  },
  {
   "cell_type": "markdown",
   "metadata": {},
   "source": [
    "Now let's create a function to make our life easier.\n",
    "\n",
    "The function `gql_all` will fetch all paginated responses from an endpoint until it returns an empty response.\n",
    "\n",
    "_Notice:_ the _async_ keyword and the _try/except_ statement"
   ]
  },
  {
   "cell_type": "code",
   "execution_count": null,
   "metadata": {},
   "outputs": [],
   "source": [
    "async def gql_all(query, field, first=1000, skip=0, initial_list=None, \n",
    "                  counter = True):\n",
    "\n",
    "    out = []\n",
    "    \n",
    "    if initial_list:\n",
    "        out = initial_list\n",
    "        skip = len(out)\n",
    "\n",
    "    fetch = True\n",
    "    try:\n",
    "        while fetch:\n",
    "            vars = {\"first\": first, \"skip\": skip}\n",
    "            res = await client.execute_async(query, variable_values=vars)\n",
    "            # print(type(res))\n",
    "            # print(res)\n",
    "            \n",
    "            if not res[field]:\n",
    "                print('**I am done fetching!**')\n",
    "                fetch = False\n",
    "            else:\n",
    "                out.extend(res[field])\n",
    "                skip += first# fetch = False\n",
    "                if counter: print(len(out))\n",
    "    except:\n",
    "        print(\"**An error occurred, exiting early.**\")\n",
    "    \n",
    "    return out"
   ]
  },
  {
   "cell_type": "code",
   "execution_count": null,
   "metadata": {},
   "outputs": [],
   "source": [
    "res = await gql_all(spaces_query, \"spaces\")"
   ]
  },
  {
   "cell_type": "code",
   "execution_count": null,
   "metadata": {},
   "outputs": [],
   "source": [
    "res"
   ]
  }
 ],
 "metadata": {
  "kernelspec": {
   "display_name": "Python 3.9.1 64-bit",
   "language": "python",
   "name": "python3"
  },
  "language_info": {
   "codemirror_mode": {
    "name": "ipython",
    "version": 3
   },
   "file_extension": ".py",
   "mimetype": "text/x-python",
   "name": "python",
   "nbconvert_exporter": "python",
   "pygments_lexer": "ipython3",
   "version": "3.9.13"
  },
  "orig_nbformat": 4,
  "vscode": {
   "interpreter": {
    "hash": "c32e70da788b7e7a251586b987d2c569d373765eb2af3ced0674c402bf99c5a2"
   }
  }
 },
 "nbformat": 4,
 "nbformat_minor": 2
}
