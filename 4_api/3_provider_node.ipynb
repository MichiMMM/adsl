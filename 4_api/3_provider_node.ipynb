{
 "cells": [
  {
   "cell_type": "code",
   "execution_count": null,
   "metadata": {},
   "outputs": [],
   "source": [
    "# !pip install web3"
   ]
  },
  {
   "cell_type": "code",
   "execution_count": null,
   "metadata": {},
   "outputs": [],
   "source": [
    "# The code here requires additional packages and libraries.\n",
    "# !pip install \"web3[tester]\"\n",
    "# error: Microsoft Visual C++ 14.0 or greater is required. Get it with \"Microsoft C++ Build Tools\": https://visualstudio.microsoft.com/visual-cpp-build-tools/\n",
    "\n",
    "# from web3 import Web3, EthereumTesterProvider\n",
    "# w3 = Web3(EthereumTesterProvider())\n",
    "# w3.is_connected()"
   ]
  },
  {
   "cell_type": "code",
   "execution_count": 1,
   "metadata": {},
   "outputs": [],
   "source": [
    "from web3 import Web3, AsyncWeb3"
   ]
  },
  {
   "cell_type": "code",
   "execution_count": 2,
   "metadata": {},
   "outputs": [],
   "source": [
    "from dotenv import dotenv_values\n",
    "config = dotenv_values(\"../.env\")"
   ]
  },
  {
   "cell_type": "code",
   "execution_count": 3,
   "metadata": {},
   "outputs": [],
   "source": [
    "url = config['INFURA_MAINNET'] + config['INFURA_KEY']"
   ]
  },
  {
   "cell_type": "code",
   "execution_count": 4,
   "metadata": {},
   "outputs": [
    {
     "data": {
      "text/plain": [
       "True"
      ]
     },
     "execution_count": 4,
     "metadata": {},
     "output_type": "execute_result"
    }
   ],
   "source": [
    "w3 = Web3(Web3.HTTPProvider(url))\n",
    "w3.is_connected()"
   ]
  },
  {
   "cell_type": "code",
   "execution_count": 5,
   "metadata": {},
   "outputs": [
    {
     "data": {
      "text/plain": [
       "AttributeDict({'baseFeePerGas': 30607533175,\n",
       " 'difficulty': 0,\n",
       " 'extraData': HexBytes('0x6265617665726275696c642e6f7267'),\n",
       " 'gasLimit': 29999972,\n",
       " 'gasUsed': 20403787,\n",
       " 'hash': HexBytes('0x171fa1d88472baeeb7ea13dad68f69655012786efb03bc43c5ee61cf8fa896ec'),\n",
       " 'logsBloom': HexBytes('0x87b764f773b274bc0951a0268125def77a31a88843ad8a324ebb2146fe32201441d1002b943b2293460208604b154d883eb9232088d2b108a81a72b97579b711c44375b84c6ef02b7d65400f0e501f28adf91f6100cc1aae032080d29b79d152316900ecff7a38954cbabd698c8d1a9466ba1dec701b17eeb609673e800b409c4226804d4a0448d825e8ed2f97f8d407bdaa5e910f91065f160321610f77048d1ff30b731c8860eb7a0980b694943592463f46290708d80849e020ea06b82a19b3a078325620234124ca62041832bfa160e646917ca849546add9a329008f468d21cbb4041613d6782c758416831280a8d949958eb9ca358c40bd868a3698c77'),\n",
       " 'miner': '0x95222290DD7278Aa3Ddd389Cc1E1d165CC4BAfe5',\n",
       " 'mixHash': HexBytes('0xeda81f1ab270664a696b0a3eca0f8cb5e6fb1d1109a3b6bcf82f905dfebd91c8'),\n",
       " 'nonce': HexBytes('0x0000000000000000'),\n",
       " 'number': 18219096,\n",
       " 'parentHash': HexBytes('0xc45e26f1414d82bdb5b29fdafc338a91dc66ce9e540da93491df5c3c57918193'),\n",
       " 'receiptsRoot': HexBytes('0x2384543afef42fdd15c09a60e5f825335462d297dd36397fbc4e520e243e6ec9'),\n",
       " 'sha3Uncles': HexBytes('0x1dcc4de8dec75d7aab85b567b6ccd41ad312451b948a7413f0a142fd40d49347'),\n",
       " 'size': 136058,\n",
       " 'stateRoot': HexBytes('0x48bd893870330513652e4d9230803fe1e10fe4377894847cae7ece993198d4b5'),\n",
       " 'timestamp': 1695720911,\n",
       " 'totalDifficulty': 58750003716598352816469,\n",
       " 'transactions': [HexBytes('0x52ee5b47d7e9d8da6bc4c862b6f6a5dc62c8c714f59b5ac9613231019773178a'),\n",
       "  HexBytes('0xb6bdb91f69cb11e104b7af66998eb29b5f630656a899dfd1b753145956ef3e22'),\n",
       "  HexBytes('0xa87f5a933d75f56a351a20febdce6b7377fb7af14539f37ee0113c4f0a6b7181'),\n",
       "  HexBytes('0x856aab9b4efde85fc6e35576a6f8f037f484923e9377cbae74dfe3941978d7fe'),\n",
       "  HexBytes('0x9c892d6790e0418ee46cf3e6c64d2c364b215d0963ceacee19bbb16e7369b48d'),\n",
       "  HexBytes('0x4fd14c74df4f514505cbf5ba05846390a54de0e4d324cb11e9a36ceb0cb25d50'),\n",
       "  HexBytes('0xdd56570a9454a15a80ecc5665a2a2a78c7d3c42719462a5f9f05954a014ec9b3'),\n",
       "  HexBytes('0xab540cb7781089bf82a7ee22e47a3beb2bb8b14589e541c7b355a89f32fd00ae'),\n",
       "  HexBytes('0x255779b84f770a100a823a7f480d1d8432fa3d8a3354d72ca01cba49f80a284d'),\n",
       "  HexBytes('0xe800a9b2dcc56316e2b0cc090c0444e401e63f453311caa9d2435cea97dd3f15'),\n",
       "  HexBytes('0x30fecf005bef80849089627891ca10ac4b5dac4595d98b9360fefe6389a3bf87'),\n",
       "  HexBytes('0x55bb6edae4fb4277717113f93c706aa3c6f2f3da3341b757abf87d64f8264862'),\n",
       "  HexBytes('0x306bb8afba4d43c8b1fab3b18189e5426d20514c6af8d70afb0068ea6a71c98e'),\n",
       "  HexBytes('0xfe388a956158b1c35e7d20c3a113f71e3195bc8dfbbe709ca2f23a1e9167c1ab'),\n",
       "  HexBytes('0x66113c8c53e84c790a092ae59331e04be40a6c2251425e82e7f0617ec4c5037c'),\n",
       "  HexBytes('0x39e339ec458514127399620bfef09a48b566e24913071a76aaf83ee5fbb178a4'),\n",
       "  HexBytes('0x8f14b28ac286c6c1ac68f2a34deec42084efcfcf8c33f3cbc0a7350a4efa2fcb'),\n",
       "  HexBytes('0xb174556479dc63b2ba137db14ae8ae4ec3d8016ac72cc487a1d40a4355e51c1c'),\n",
       "  HexBytes('0xb49511b345386c01501c452e4fbe6e22a31df0f751027acfa3b4d6305b19d1c1'),\n",
       "  HexBytes('0xe7b9c08c2450c0bde1b491ff549331eaff339a7391301fa209cbad8b765ea19a'),\n",
       "  HexBytes('0xc18310e507631b5afff1885b49639ea90c34c36c8434c638d62ef413c3c6ead0'),\n",
       "  HexBytes('0x8258360775029c92d722d666a4bc8241a9bd0d4499e73e0037fc37770b06cb90'),\n",
       "  HexBytes('0x1cfff046b1ffdcf2cbb52508c9fbd0c213d2c40b228b3c0d867cb09d60948b45'),\n",
       "  HexBytes('0x2d071f6f7181f15692875de2df3a67ee8b070606ade351c4d05a665522792c45'),\n",
       "  HexBytes('0x01b675383e1663f6ea3a9787c17745e359e571376f708876fba605df4e12e08b'),\n",
       "  HexBytes('0x5ffd21072fe18d3a37cbebe94a52cccf4bf30902c3f86cae00114dadae09a273'),\n",
       "  HexBytes('0xf6f2564db4ca1ca2b65b3d3570b116f97621e4fa8e60fea0cab651b9592fd3c7'),\n",
       "  HexBytes('0x4fe2642c934ab8b0055c472a2b43796b1760d33b7ab5bef7473268357224fd2a'),\n",
       "  HexBytes('0xa9fcd6f3e346264033e8737cea04b1eb2b30f15777d13648a6a09ed8b7112980'),\n",
       "  HexBytes('0x003749ec9389022b1c6ead5b79b35b79852e065eba32b29a2e47cae8c4fe2928'),\n",
       "  HexBytes('0xdd3ebc2daa08df3a065ee197e84a6551444bb18743a08cf047764b28c70a54a1'),\n",
       "  HexBytes('0xbb97a929f660815119c7c53439270506edc027e4f13e119701a6fe6a604ccdd2'),\n",
       "  HexBytes('0x660c176a12a73aae55c6fa55a815ad1b25919161e82a36f6f682355ade0dce0d'),\n",
       "  HexBytes('0xd0412aedc506acdcaab4732d442c7b591c5e1639ffb97f75b77434f373d5e396'),\n",
       "  HexBytes('0x09ab218c694a011768df68d7881466dbe6edcd24fa3eff10c0e6a3753cc6842c'),\n",
       "  HexBytes('0x1819ff26ba74afed3fd69850add15e11224c6b76c7edb38a409a3d4a6e2d1cf1'),\n",
       "  HexBytes('0x0762f894985c01f40d6351d47d3b6e27431a953144291b04d5110027dd3dcb7e'),\n",
       "  HexBytes('0x585771adf8ed7d5924b7732cd62b0071ba9b1377622ef131a540c99b4cb0c990'),\n",
       "  HexBytes('0xbc0d3787294f80cd7e47c8cbd235092338fc9cff69d5117cfc91e026d2b192de'),\n",
       "  HexBytes('0xc39bd120d56da5ff2ac0cbc21446e58f9fec98308dffc413de74f0cd400e286b'),\n",
       "  HexBytes('0xe764b345912b7a101bb9dbfa75da01071a11bbe0bc77c7b694700dbaae9488cb'),\n",
       "  HexBytes('0x4f34f99eced1e1234a64423572b092df05edfd39bb00c7e1cfdd497ebedd6355'),\n",
       "  HexBytes('0xb6b5b3a2e7f9132c6704bf7c7e7cd1d045974f77c09bb76a9d19f7e09eb43d6c'),\n",
       "  HexBytes('0x48b3935b27dc495e13d6fa8d3d352a47cfd90e4d0e55ad7091f657b6c6037094'),\n",
       "  HexBytes('0x3fa1176d5f625bbdbe5f5474962c239afc9a714dbe66f41de24d868cbad1d3b2'),\n",
       "  HexBytes('0x9a449a27a174bce4e9fc770a1e8ee18af19eac1910588192e31f409fc420cf23'),\n",
       "  HexBytes('0x21610318ed40fabf234386cb2e2935b9b1329b3edc94a84e5815c5904c573fb4'),\n",
       "  HexBytes('0xb2dd5e19ec20f4af08b8cf5886d1b9b9fc0e3c31de29fc420974abcfde389ab6'),\n",
       "  HexBytes('0x15f1671a48649f05d06fb64f75be5de19e12cf4d831581926b88777b467f5f6c'),\n",
       "  HexBytes('0x6a00ebfda0464088432f28a1907df09b91ba37701301e3f99c00f6563b6e226e'),\n",
       "  HexBytes('0x31f1267541a44f4a1ba7affa635eb1e92b47f21d7de0a5f395ce9034552751cf'),\n",
       "  HexBytes('0x95e28587bd1259e4198c05558c8fed444757e23670332742c023de694728c88f'),\n",
       "  HexBytes('0xd50b3b84dedebe46fae4800451537901103b417bd1ad7cba91b766d3f1447c76'),\n",
       "  HexBytes('0xe95c33e81b41a4b76bca614f71f7d783938062693529622553505c29a39c14f4'),\n",
       "  HexBytes('0xfa2dacee0cd7a569c027f7ff349b7a134ffc56845c93ffad34b5999e32062fa7'),\n",
       "  HexBytes('0x7c832421987071e7244f7c77b8f614ebc00c906a298216c905e128e62b60c7db'),\n",
       "  HexBytes('0x4bd1f9572f6254bbe1d482821ee1e60578623350699e3a3668f99e9b37ba09de'),\n",
       "  HexBytes('0xaeeed8154e839d04c55317fa9c8c89dee16f0c3a78383ca9284a1b5a63c09a96'),\n",
       "  HexBytes('0xac4778c9841e547f881a12dc65e80215b4b3565531e771ad2010d345630b8743'),\n",
       "  HexBytes('0x8fd65020111a559e73bedf2d15ee7d0472a34006aefac487a5211ce0c9c31bd5'),\n",
       "  HexBytes('0x6ccab3f932f90d13752f538cb8b1c628f7c94fec96b9f54eba282ef1f9966ee6'),\n",
       "  HexBytes('0xe12349a9b68ee574b743b481c90a860f7923967cbb5f1152ca06210b984ddbb2'),\n",
       "  HexBytes('0x8055df44847cc8690f4c13bd606c4d5886e1cdc9bee20979f6a1b831f72d0aa1'),\n",
       "  HexBytes('0xe5f5104e774239432bcc66f8b9c30e9a59906bf288975a395a86b8f6812eb738'),\n",
       "  HexBytes('0x74abd1452eb0ffda94d116f15ba2f0513f4f0ab3342a7ba8af4a1392e710378d'),\n",
       "  HexBytes('0x3751f0b22ba98669e9bfa2d567d043320d641773d023caa28e091729c2839b5f'),\n",
       "  HexBytes('0x8ab022d6412e8bad0830bb1b8458a190cb8122b7fdb6dbcd87e577791ca6cd47'),\n",
       "  HexBytes('0x5e6c17353e1e84c00dfcca6ec80e596bbecb2d24aca619b550e94bf33ef51594'),\n",
       "  HexBytes('0xfa98cb8902ffeed86486673bd7b918498b6c145e9568cc5de039e93fb1aa7116'),\n",
       "  HexBytes('0xc62086e77111cba791ad55cd0b3793dc44e933cb27f448366e8f3782c2a20ca3'),\n",
       "  HexBytes('0xe17fd322e21d69f79f2d635a425582c7bdd9f32ba8cbc0f9cbbdf65b6ec3291b'),\n",
       "  HexBytes('0xb695528984979c809c049ee97003df9e5cb438a3d91053b34dd39fd583df3beb'),\n",
       "  HexBytes('0x43154f65d6e10bddacaf1d2a27e7b46f7d22b789e06499842fbf94e29f966a60'),\n",
       "  HexBytes('0x1b3ee24b927b627088dff4af92c6c5d7a1dccc9b22b4c5c0555596dbb6b9f03e'),\n",
       "  HexBytes('0xa84961aac3f52c1219a99312b0ad950b1fa9b73a10deebc2cc05354f0e80d6fa'),\n",
       "  HexBytes('0x6e4a86d6a883479cd1fb6015a96764799dba8a7ce648277db93fddef36868c43'),\n",
       "  HexBytes('0xfd1e606ad3caa0f6f986f8bc808ccba0e87ce7b8475eb46d73c992b1883c031e'),\n",
       "  HexBytes('0x71b70b1424650567b978ff2914779235691170c23a8d86fc9c0d026a0958dd02'),\n",
       "  HexBytes('0x4954bfe637623f4fb22a4707c7c89703a798d180f6e7219eb16292c0ca6f3dee'),\n",
       "  HexBytes('0x239d92c4f147f0de49cf0a30349f695299d524bec00ec4797fbdc820ab3c2bfa'),\n",
       "  HexBytes('0x6b062cdeb087d05fa298a058d2d9f49bda783834568e2115358a743b96993546'),\n",
       "  HexBytes('0x19efc2ce14495d30dffbfa4881ff4275d2c39c43fae31620134650c08c4fe2fc'),\n",
       "  HexBytes('0xc7fc453e136f40d83eb9eee13acbc7eab5aa29a8a7e0695f66e4afc1411efdcd'),\n",
       "  HexBytes('0xa90db1f20b103483d2b03e3abe5a4fecf2bb2ea2e8f4b9a2f9c24b9a6368d660'),\n",
       "  HexBytes('0xa7f4c258c4d4ed89e66596fb6f6e78c77d143d2bd2f4631084d5acc52dc02bb8'),\n",
       "  HexBytes('0x32c8ce0f534e88972a7dac05cf09c28ffb65325f54b25087eb1069d2ef6ee4ca'),\n",
       "  HexBytes('0x997be3d59e0c3abc1b9a5e1991e251db38f8a74fa5b8df97dcc89c981e7a62e4'),\n",
       "  HexBytes('0xaee663e052b605f82722b48113d0f4ab5027f092e203f0ae6e96b3a018a627a0'),\n",
       "  HexBytes('0xc6f8cddca10b592e58d4cf63c8e2b9a3c109757f5774dc38605b3f64e6cdb9c9'),\n",
       "  HexBytes('0x0b633e14f7580d5c07439e7ceea40915780c0720983efb0321708d92fce9fadd'),\n",
       "  HexBytes('0x0418141f16a16a5a5a059c3060184e5efd1feb82674a6728c6b5b7317fdf202e'),\n",
       "  HexBytes('0x2650f73da7b62f2ccb7a7620ab2e5742d8e54e38c48f2793784beb5843e89a9c'),\n",
       "  HexBytes('0xf1f046f84369524ec9006bd415e80bb4d01b2e4b1b3baa053075d61b1b44d823'),\n",
       "  HexBytes('0x9fdee2ab9cb06c35332852e484bdac29a91b7a42f6e100a6e23e68a790585677'),\n",
       "  HexBytes('0x73c4709dfffbfdaea083b959205a032341a20d07d65a05f1ad24dc8a530ed31a'),\n",
       "  HexBytes('0x6b0dc5c198170e950683dbad88eae4ec8c5bf518b99a2beca21221f75b09073a'),\n",
       "  HexBytes('0x8f7c4b0eaa5dcc38ee4775c60165240f7cc89bbfb27c8dfa6dc328a977e56bd2'),\n",
       "  HexBytes('0x85d3fc7ead71360945a6d1a57ff019253539d20f4349b9caf4966a992dffb475'),\n",
       "  HexBytes('0x8838e6dcbb2e587c4a91e636606b79ca4ba6bd6972dd5496cf590c1f0e6cd8d2'),\n",
       "  HexBytes('0xacff8a71c3444266ab60d9d8ab40f33826412de1d0e5d3e65cd5414f4ba0d8c9'),\n",
       "  HexBytes('0xecaf6143a48bc98653553089df9ee5978eb1161722f8415f3029979ebc4940d0'),\n",
       "  HexBytes('0xad71735d4922650cf35268011adf8de8b2f857db10ff74003a6ec4452c9b0563'),\n",
       "  HexBytes('0x43c987582c1ded9da368127a28c184a490e63d9ed94ccc13ba04a260eedefdb5'),\n",
       "  HexBytes('0xf915cc59d850682c7122e2f59b05df37c0a776397259db9b1e4c7e9c7b0085bb'),\n",
       "  HexBytes('0xde24b1c286f0dd2084cb333e13ec98f247025089ff7d03990c5a1fcced9f7381'),\n",
       "  HexBytes('0xdaa833377382db7ff2a67d288fe98e9cf30b8ac2ca8ecd64d3bec1365ab8979d'),\n",
       "  HexBytes('0x2f21a90f1fbcc579e9620492090198b7516969f3de2835830c2240f03461f8ac'),\n",
       "  HexBytes('0x343fcf9eb79ed8f5011409d2adfd8ade2cf0a51a27e4b94dfa0ca53fb0a9d227'),\n",
       "  HexBytes('0x4c85843f97872137d420c21667c5834681b71aba8788213f5921a0d5c8160e9f'),\n",
       "  HexBytes('0x69eb163ef07c6e4a2ed0d04113c37f0622c60d81348fb66a870eaaf97ca3881f'),\n",
       "  HexBytes('0xb256e9e3c7d6e182ff804ed208f4bc20c9b6ebca4eb04041e7cb1a5fe5f0f816'),\n",
       "  HexBytes('0xcbc99d54d757eb2db94d37b55a8681d1cce6d3b7604880a13d27b736885277c1'),\n",
       "  HexBytes('0x826048b5bdabddd7980acad43a6d88b0970cbab1ba778bf6be53dcd73225b90a'),\n",
       "  HexBytes('0xc4e25f028a7cc6a7bc6b1bb4308619acee38488054a07df0260eeec84c6ec840'),\n",
       "  HexBytes('0xe46a949c316e1219cf5c73ebbd7aa437dd24425369f65f5661d77882619b1106'),\n",
       "  HexBytes('0xb8a44376e714cfee431681cc4b07a58f348bc0c432d4e204cfb164f261f1b0e6'),\n",
       "  HexBytes('0xd417f5cbad82a5afff1523cb047cf595bac6ac39c8043b1ff1913f321239f392'),\n",
       "  HexBytes('0x85cf68fc448e29e397205b6e1466e7f8e7c5c7ad0591772267b8c96ca2a2d827'),\n",
       "  HexBytes('0x900ce29599fcacc402b31ff49500c7c39fd50d1c8b5e186bc47e727bddaafcad'),\n",
       "  HexBytes('0x86075c3c83914efeb30f9e59161edf2bac366b8dc2bfbd1cc952ad47fe74922c'),\n",
       "  HexBytes('0x7431a47e13cf6ea7339bddcc01d29c1d0dd01751b95069d8fd5dee290216585e'),\n",
       "  HexBytes('0x25fbb4f1a8433333eaa11484d764c8a2ea0b0c2821e2db0aeb3be1040fd4d75e'),\n",
       "  HexBytes('0xa60789a03ba6213a0a01613555dce4cfabaeb0ae0706d624b7b817ac067c6fe4'),\n",
       "  HexBytes('0x5d8b1318ed1f3d80919aa7bf165f925f536da1d8f2ca52dc2e8aab9a0f39251f'),\n",
       "  HexBytes('0x8f35f98b8171127f1f8a63bfc20ca9f54be61dbe5fdaf264f2da9053f1ec4610'),\n",
       "  HexBytes('0x8c975d7d5b5482e30a3b0ac245f9b76bdc4751321562a41ae9824f6cb08af915'),\n",
       "  HexBytes('0xdea8ade9bcd4a760eb8cf340ff04f982eac748ac4298bfb430a7966f9014e036'),\n",
       "  HexBytes('0xd797b9c6debebed7284da6cc0d41797a1e3fe9da8045dce2b0945b21aec1350d'),\n",
       "  HexBytes('0xe2411f60ce91955b799f8d4a69fb43f89e3e02fca3b163ba871f7275a7738ad4'),\n",
       "  HexBytes('0x82db1dc37153ffec3b73939e422060a967bdc891268af967f3b6350414038e90'),\n",
       "  HexBytes('0xe373e88732907f1a541b85541b65cdd14c9668700919697fb7d713c783a0bced'),\n",
       "  HexBytes('0x040ab2187783c72fbb73b2288e86bc4e7c9701a3ad0ff09068f151e20a0197ce'),\n",
       "  HexBytes('0xb9a45902b12c6161a79dbf4b1315557b4f1eb32d044db5e42b63346a7d767aca'),\n",
       "  HexBytes('0x9cbc26f3ea763818d0e02370bd988067706a069c81ff3c01328e8bc93394cf0e'),\n",
       "  HexBytes('0x83cffa8eb2e54b58d6ba9bbc03c107ed23041e6fae7bfaa61b721e9e5881a52a'),\n",
       "  HexBytes('0xa2cc9d48c6b5b26f8f3d2adab909908cf514d109c052e1a348ff4ef42220394d'),\n",
       "  HexBytes('0xf5ed17a4bcdf9a234ee028521acb5df2373f07225272d03e5c8fdd67fd1abc98'),\n",
       "  HexBytes('0x4a526369d3321d0ec3c3b88c6bc350dafae37d4d162a71352c2d5ab90324f594'),\n",
       "  HexBytes('0x694cefd2b7de698c3f35a9ff2e7e2c44e9ed19071243d894f14d49a29d97f5e4'),\n",
       "  HexBytes('0xfed595b84df4d33c28fc479c7f94af20db33b4dff745f6a4283216d454a0d34b'),\n",
       "  HexBytes('0xabaf634d1f2463def9c446bfd58be697d12045cba4ddc9204edeaf7043adaa8a'),\n",
       "  HexBytes('0x247841dfd4def6e9cf1424fd43272af3e7277ec708aee4bbf4059e945fde945c'),\n",
       "  HexBytes('0x8b18a89cb455268b4123bff9ccf748d3719b36a9c82574657a022e3e1063bb5a'),\n",
       "  HexBytes('0x50fbc19dbb0adb3980c37c9e1f56e59418812ad6357a89ebc339a25907657180'),\n",
       "  HexBytes('0x0b7efc6d0e4fcfa63dda76487d014f2ec0aef45c9c1feaedb57c05b91ecf79fb'),\n",
       "  HexBytes('0x8d6fe34b8ebcd54b026dddf8f70437fa429996ddd011e1ed62ce0c78c581d52b'),\n",
       "  HexBytes('0x3976a85497d3e37ca4e528bad0af01974b5b7697f7a4231c83477003c4246bf3'),\n",
       "  HexBytes('0x5898784e6a907dcbdecd9e2a30f817d56259566de120a74b3cf3e2c0c148d8da'),\n",
       "  HexBytes('0x70b614a38831807cf1cacd6e54d36d8e501523b99a1326de480153ebdc73e20e'),\n",
       "  HexBytes('0x1eb204cfaeeab6833824b6686ff86d8e9a9324739a303dedd33b6a1c135fd38e'),\n",
       "  HexBytes('0x71160b2edf82c9e8896fa495502189885f30da810096a6648db6de12c99e9557'),\n",
       "  HexBytes('0x4de0d39430e79f362bcc4d21f336ca67b81b51f36c3928edb61edb2514571f40'),\n",
       "  HexBytes('0x7f9c5e284adcbb917f04e2178564d614fb699ee62a61a98f7ac6d8d5cbd0b306'),\n",
       "  HexBytes('0xafe9b5816b0437bbb151c83134b0657b679588679c22f25a392a9f4d079299b6'),\n",
       "  HexBytes('0x6c9ff396ec59bc1974fa3637ff5454f366031d4cd10c888b45b35ca5c9e81698'),\n",
       "  HexBytes('0x61c6e791a54f36189077b424bde03a8524b9fee85a950dddb54d2dbe3dc18a3a'),\n",
       "  HexBytes('0x100120bc3d7f912de5ef0c89a0a6e6b52cf6f5a5a1aa0afe32e547631abe5dd2'),\n",
       "  HexBytes('0x95e27a7de0165f63f3e77e79e7555ad47686c259df5831ee2079660fb197f732'),\n",
       "  HexBytes('0x7627734e2b9eed2091e41fb165aad5f269b3de6d0ef0667e36df83aa295ed15f'),\n",
       "  HexBytes('0x2b2d72e0e79ccd06b2fc6bca52838058898d74b6bbb952b843f26426ed4a0d65'),\n",
       "  HexBytes('0x3654e701657d2a4d31eca715c0b5ed3b0239db68a91ecf948cebe5fa5fec3d54'),\n",
       "  HexBytes('0x32a6eb8b521ce89173a86604d37d623026bb5b5e853a844b3e9d2a103f3addfe'),\n",
       "  HexBytes('0x5b4b37742d9252cdefd08a98460e630c6fcfc0841ff501e56291c8aa98e8f1d4'),\n",
       "  HexBytes('0x16f98572cf46161ff1f98d2ad6d03b2cb1301dc6108f526eb68f7ee6c4fdfcb8'),\n",
       "  HexBytes('0xaa2ae3c32aafb2be80d2b6abecc187c78f5f2f6ef0db82d37523afb4239927e5'),\n",
       "  HexBytes('0x87890858f8ec1cba2b230ee305a47e3d845d6f8f0900014f93faa67b421e94f7'),\n",
       "  HexBytes('0x28499ea00cb186a3b69f54a617641ff3232fb4cf2cb7801a23164b208897ee3b'),\n",
       "  HexBytes('0x6d3fe505f2a5aefc5f91f0a11d6b18c4fce397fcdf41899fc2dfe6080d2caa71'),\n",
       "  HexBytes('0xafe405dccaa95eded71787e968f75135c74139fb07f2d0a705177063bd00619f'),\n",
       "  HexBytes('0x8297a9c472fd1e54cfedae0d7f26982535a86e03eba32bc3de0d2fdff832bd4d'),\n",
       "  HexBytes('0x48e3030391fc94f4a1c819cd923f9fd96f1ed2237e7f0c7c41c6485baa6b8f08'),\n",
       "  HexBytes('0xf6580e55e0f873e55ef6a748987d346c447baa14c3e9dfc127816d064ed9a760'),\n",
       "  HexBytes('0xfca1caf08cfe436dab7558237b0d73f98ee4601dfcb4074dfbe852ae8b23217b'),\n",
       "  HexBytes('0x92e74596f14ca0271b3724bdd44994341d587687846010eba9e6c7d19df4ee2b'),\n",
       "  HexBytes('0x9696917ac48811b74cf750dd817fe364f5eeb270ce5c09673a1a977c1b456dd1'),\n",
       "  HexBytes('0x6f1c34142737a0fd76c475014ebd5856ab769d62589f0e49e96ee59aeb541ee7'),\n",
       "  HexBytes('0x12fe58661765c46b7687ed41c8c378e8a61dfb9b559077a949a6e1f20716b301'),\n",
       "  HexBytes('0xb6edb7bc3454396fc39752883e0adcca307ed6df50a072d166c3f09e8f78d893'),\n",
       "  HexBytes('0x49a5d2c63c251d2b7b2259cd06e7905a47fae0c3de6dd62f33e476499c6b7c17'),\n",
       "  HexBytes('0x640d6165e9c4d8140ff0bdcf82e48d0d4a1eb55ec107db472bd29d7f3daab14a'),\n",
       "  HexBytes('0x688ef98eb1e4923ed2ddb24494598ec069e35ec61c4cec41e496fb83f1d306a2'),\n",
       "  HexBytes('0x69c7aa2c6f203dfb0a45cf30e7b5da2f4000c07af9e64e38f2324ea53fbba214'),\n",
       "  HexBytes('0xf6bf6aebe7a0741ea34833bd67012bdf13609e4d497205fe6db33bbb862e1a35'),\n",
       "  HexBytes('0xe4b511c2dd74027deee1a9084116ff05576641e60be0b7f6427532832cf65e69'),\n",
       "  HexBytes('0x14683493ea590ce08d781dc133cb6f6ecf0839406973e50f35165333e77d6a7c'),\n",
       "  HexBytes('0x213be88b35f384d290869972850d1718560cc4ac83d2d3b689aee4382efe6d76'),\n",
       "  HexBytes('0xf19ff9db7db2532a13bd39b3aac7e623960d3d30b2cfbf8961f47be4078b3e40'),\n",
       "  HexBytes('0x79f9368ee9caac34ed23bb9429d60115898cd69ae17a0f0b712c2ce47b96270d'),\n",
       "  HexBytes('0x93b873dd2cf4ea342eecac0469201ad0bb43a84e979c3924be57347c79cb2c79'),\n",
       "  HexBytes('0x549a8b24fd6f34ade8e00540793a34ab260d28b96c19b4ae484eab21a02bec9d'),\n",
       "  HexBytes('0x1e0bc3ca6b3be960258acd460701192fa15aa30ecd4d7c5b4f1ff37ee1684bca'),\n",
       "  HexBytes('0x0cc891f27ac6561b24ced8a1723f93c645df9da0bd497c2df5e97d28c553492f'),\n",
       "  HexBytes('0x79913df559df3d8ce3a99b4831fd722a273091796352bf4b8a276d83ccb288b4'),\n",
       "  HexBytes('0x47a4e726f7f03f9fb2e5158596e8c8d81beacf2e9dc5ec72a09eaf78a8715699'),\n",
       "  HexBytes('0x8464d698efc948bd8fcb5d3e8b970709528e10d17a1e1d92aa6f5c6da176ff1c'),\n",
       "  HexBytes('0x1bccd217783a3e666fd1d78d59760ea412e54f1162133d19eb4888094f539f69'),\n",
       "  HexBytes('0xdde4cc09ce9bebf2c426ddad47f7529aece905b31837dc222a3ecdca2aa16115'),\n",
       "  HexBytes('0x7f4422fdcd803e4c062afecb424eead9572c1aae04e9850de6b60f52cc63d8d1'),\n",
       "  HexBytes('0x46a8a60a6d312ca7a7d0c2661e1edcd3db8998cae79145d2823de622ec6d26f4'),\n",
       "  HexBytes('0xefd439f7842262ee8ce56005cee3d3dffbbc8a69796dd932fc8a837ce0a40a8e'),\n",
       "  HexBytes('0x0accb03025fa97ddedfe8a278d03b6e606499dc63566f47391fa6984701abf42'),\n",
       "  HexBytes('0xc2d51bd10ff555c40512435ee4a35682d85d65976d2cef144a2a109b3cae0ac4'),\n",
       "  HexBytes('0xadfab6e05dc0609737c5b10dbaa7eca8906c50932f5d55706105862996b9551e'),\n",
       "  HexBytes('0xd26f48514c73646a13d9908df9bd2b5454da1eb68e9838f8c00cc6fb6c407af8'),\n",
       "  HexBytes('0x39f82fb579ce50f4b0271433fcdb47833e08caa987702c4601479798a6ce97ce'),\n",
       "  HexBytes('0x2ce5999da95aa9842f26f977c22d3e3b9692916f22a46105876756317355cd14'),\n",
       "  HexBytes('0x1b39a108016a12ca218c3a83fe088d07c0282255527637fad56d55d988a67331'),\n",
       "  HexBytes('0x8ab142dd2164e21d6652c2078a2e116f0c87ebcf3371be066fc362348bc21860'),\n",
       "  HexBytes('0xeec1613d9bf93d5d75d412d615416dcf293b9ad4a7b8bd2e2a1f19fe1aa19093'),\n",
       "  HexBytes('0xdbc5dd89f5c188c458b1c41d847dba001354914069d0d26148d9f634e9fe9285'),\n",
       "  HexBytes('0x363afd0fb893193a72795e00d68be8b9b88c7e82914b6a6e6408a794947598e8'),\n",
       "  HexBytes('0x76b12a099eed3016833677b935dc8ec8a026075304188f966b7495194208bca8'),\n",
       "  HexBytes('0xaa48442c0b9dc09f854864887df83090ac2ea9728f29ae708796556612de049c'),\n",
       "  HexBytes('0x47132f8fc755798f758060f89e831fec28131502660b7a44f65d02481b91d9b7'),\n",
       "  HexBytes('0xb23b1adf7f6cb4d3a64afebc5b22d97ffa03efce21492b089a8416e883a2560c'),\n",
       "  HexBytes('0xaeff1bd5486758e7f2bf08a4f7615a88bfdf61746933e8569fcf7b423ba92157'),\n",
       "  HexBytes('0x42be298847bb8871391fb221e8386eb02e06c169c6ae2ba76a7ca37193e48821'),\n",
       "  HexBytes('0xc6212544a751db5a3e700fee645b25bbbeeb63e038c0f15a2a1196a65df29aca'),\n",
       "  HexBytes('0x1006a3c9910de4403949b3a2ba8b20dc03eb47548127bea67b87569aae904e85'),\n",
       "  HexBytes('0x3332af15b00979d761f2e028f809c5a95c141b09887d45aa85555d52d4e04cb5'),\n",
       "  HexBytes('0x9aa4d65e3c940be2f3ed644fc1984361f21a6debb48e379a7f4efa3034b078d5'),\n",
       "  HexBytes('0x71ef20695c982875ad07d5c64859e7f48e07ce40fcbcec582ee31cafdd34eb26'),\n",
       "  HexBytes('0x55cda6adb96d304e964823187ed5514d1bba3f7025461fe033398069db7d8732'),\n",
       "  HexBytes('0x5a40e7911aee7a0bd149c04b2d3cd2f4404fd7362bd95f2a0b73e349ca5dcf14'),\n",
       "  HexBytes('0xc6bca3ac153f850843428eccaefb7c8a080d3e75b496ece8ae73b11efb087d92'),\n",
       "  HexBytes('0xf533a0b839a8fcf7f34214f96e97be0b6d48372c0cc6c93949c2dd6953fc9347'),\n",
       "  HexBytes('0x7b79668cc76247ec362a34fc3c44af8964eba950ab7c754ef0a40dbd8ca0e55e'),\n",
       "  HexBytes('0xdba6a642e6c1041ce189733737849d7dae4b2e62c452dffa20920ab6e68fa276'),\n",
       "  HexBytes('0xea66503f7e6926d6dd7d66ec49cad01e9d6fb75b2dd2ca8d1a01db400fd2abf7'),\n",
       "  HexBytes('0x76be1a6c30f31589585e4d2486366d067002c488b9b96f5e06cd00fc5e79535b'),\n",
       "  HexBytes('0xb931d8aecc6d565f7af11083a07f84c523bbbfcd442d6907762882819f237346'),\n",
       "  HexBytes('0xf6ca2225fe525f43ccde22bbd2c29229449122d9431e46dd4f14b9a72dc522c1'),\n",
       "  HexBytes('0x286038e311d932340e170bf5b6eae89b3ddd6d875304db430c909cae69d971e3'),\n",
       "  HexBytes('0xc560e97c73fa9facc8abc8a8493a208f9f0bcccc2e949960715ee9dbbf72b077'),\n",
       "  HexBytes('0xcebd99d53e706a7e2c4ff0c390ff6955b32cd94e6d9be9fc6ef1dd64778b5a48'),\n",
       "  HexBytes('0xdd59be3fd672720a5e83ee61ec72f0175493d979febe8c81c4a9ad792ce2a2cf'),\n",
       "  HexBytes('0xe023f743e0e812eee17a8cba33a0ad505cc174ddbc397bb9e60036d4943fd756'),\n",
       "  HexBytes('0xfafe510e10b01c1df7ecf1e1c27c7652e30ffda90f762b52bd6631418f54bf87'),\n",
       "  HexBytes('0x649477ab4d90545bea3beee274f8942865b168320d4d9e8627764aa3149ebc81'),\n",
       "  HexBytes('0x44584a1804b438ffec2bd1af83fb464475df0fba6c559ae183c38278039fb398'),\n",
       "  HexBytes('0xb80ce677dc306b14cdb63d022b6d53a8d26537a8b5b080c2f3c8a407afa0b2c1'),\n",
       "  HexBytes('0xebaa2c27f4d49152e534983003f2d3cb546f7d9830e102a54be8221a08f63752'),\n",
       "  HexBytes('0x9e45851292ef43733363900ac69561031b3db2eec5219773b80620683748264b'),\n",
       "  HexBytes('0xaecb7f9b6d5b6700532583b8e89f5e36d271102f617b57a5e3754acf4f43e5c6'),\n",
       "  HexBytes('0xfde4584a3ab474572985018d53e2408ff8a63a67945dba08fd13ba1d115ff835'),\n",
       "  HexBytes('0x47ab4f5b358b622358174215c09213e55b2d25516047c3cdee283905c7936162'),\n",
       "  HexBytes('0x304ca8695874596a3f621d6d13aca4297d6c02c2e4d2d6001128dccf47472d8c'),\n",
       "  HexBytes('0xd25d720857f976f97269279fb3663381d78ec4461e95cf4b4b3882da074709d9'),\n",
       "  HexBytes('0x65c354bbfe5c1febfab7850e8d5d8a23344ebaaa6d349c3f695cd0975c2a2d39'),\n",
       "  HexBytes('0x8a3ab16516211c668d3318489fe3b59bb50f10e0aa181738b89bdeaa63ece880'),\n",
       "  HexBytes('0xaa33f9af862a6375fdccf14905b1921a11b0065a56bd83c31a8b825bc46c5d05'),\n",
       "  HexBytes('0xe46a447fa51b7f45b21b33ead8394d8257e1a0123fc6294dfa612ad085052ca1'),\n",
       "  HexBytes('0x64a2666bb337b9a702b54d240f5a86b9dcb6658154f966eb5c5d8ffc111489d3'),\n",
       "  HexBytes('0x04f2d84c88b10e0f4e12d001440a6f48f8adca435cd847352e3d81b5e184502b'),\n",
       "  HexBytes('0xde4a61ff32351ad89378daad27e3858384373ca86ce0dad334592e15dd6b0f77'),\n",
       "  HexBytes('0xa397d1cdae4302896d93cd954c3e94ccf097a17f6bba684f9abe8588e8462f87'),\n",
       "  HexBytes('0x0199b2cf8391a26c94e83371e33800368d15a1c7261d36166482436fce1265da'),\n",
       "  HexBytes('0x3f1d7347f18a461d433466d864baf0eee956f73be18fadcd8901bf123159c84c'),\n",
       "  HexBytes('0x4da462ea997d80a49650deeb476bcadb2449eb2630bebeeecd52db2d5bad5530'),\n",
       "  HexBytes('0xda83d9ea01908a08ddd83137553c8763f1ad423f9121ef8079b8ed55a8636742'),\n",
       "  HexBytes('0xf9356bfce906474a77c3123284d0a950932a5d2bfd079e97f7ff41a43b896958'),\n",
       "  HexBytes('0xc13965297e080dbca88320e889b92f8ac837879683e543f4f7b798c08977912f'),\n",
       "  HexBytes('0x0389f246cf5f1a44f87cbf01f7ac7a7996ca3dd5a8743dc29f379b67c8e7fc01'),\n",
       "  HexBytes('0x454ce60c917a335097496e17a3f7518a263fbe6ba75570fc62a46526487abb0a'),\n",
       "  HexBytes('0x95da7cdc7b4f4e55cc9d1e799257cd6bab2bb450e929440a070c01ee4c4a21e8'),\n",
       "  HexBytes('0xb8fa1f41f5a0910adc8e6a8ec268012d7d9516a2c00d05dd3ff027b1e3911fd0'),\n",
       "  HexBytes('0x465fc3fed5fd4b9b9277e8e7a14e7fb79b2099fd019a0e87118428171d6c1c71'),\n",
       "  HexBytes('0x88f4c03be9e119694961fafdbc3dc3cc6b0f9624c3c44d3e3603ab7e0dfe395b'),\n",
       "  HexBytes('0x467489e9cdc40742c68f335a53f377693bf1ad0dc672f7a138861b465a0198d5'),\n",
       "  HexBytes('0xdf52f98c1a55768c1be918095fe50f9e48916cd9a13e290637d968be2eb3d3dc'),\n",
       "  HexBytes('0xceefe0f6a0fb75d33fad3b0df5f5566dd201af85c4d3e39d0195337eb990f2df'),\n",
       "  HexBytes('0xc3ce2bf0ee6e4fb3210f184c9e67cb72aade7553d46b095f84780f7eb3b97f31')],\n",
       " 'transactionsRoot': HexBytes('0xfaa87312fbf3b7182665eceedbc9829e7e44c536b0832c1e02f6c690ea121753'),\n",
       " 'uncles': [],\n",
       " 'withdrawals': [AttributeDict({'address': '0xB9D7934878B5FB9610B3fE8A5e441e8fad7E293f',\n",
       "   'amount': 16389116,\n",
       "   'index': 18946166,\n",
       "   'validatorIndex': 366284}),\n",
       "  AttributeDict({'address': '0xB9D7934878B5FB9610B3fE8A5e441e8fad7E293f',\n",
       "   'amount': 16430412,\n",
       "   'index': 18946167,\n",
       "   'validatorIndex': 366285}),\n",
       "  AttributeDict({'address': '0xB9D7934878B5FB9610B3fE8A5e441e8fad7E293f',\n",
       "   'amount': 16413009,\n",
       "   'index': 18946168,\n",
       "   'validatorIndex': 366286}),\n",
       "  AttributeDict({'address': '0xB9D7934878B5FB9610B3fE8A5e441e8fad7E293f',\n",
       "   'amount': 16398736,\n",
       "   'index': 18946169,\n",
       "   'validatorIndex': 366287}),\n",
       "  AttributeDict({'address': '0xB9D7934878B5FB9610B3fE8A5e441e8fad7E293f',\n",
       "   'amount': 16420108,\n",
       "   'index': 18946170,\n",
       "   'validatorIndex': 366288}),\n",
       "  AttributeDict({'address': '0xB9D7934878B5FB9610B3fE8A5e441e8fad7E293f',\n",
       "   'amount': 16411659,\n",
       "   'index': 18946171,\n",
       "   'validatorIndex': 366289}),\n",
       "  AttributeDict({'address': '0xB9D7934878B5FB9610B3fE8A5e441e8fad7E293f',\n",
       "   'amount': 16391492,\n",
       "   'index': 18946172,\n",
       "   'validatorIndex': 366290}),\n",
       "  AttributeDict({'address': '0xB9D7934878B5FB9610B3fE8A5e441e8fad7E293f',\n",
       "   'amount': 16433403,\n",
       "   'index': 18946173,\n",
       "   'validatorIndex': 366291}),\n",
       "  AttributeDict({'address': '0xB9D7934878B5FB9610B3fE8A5e441e8fad7E293f',\n",
       "   'amount': 96910954,\n",
       "   'index': 18946174,\n",
       "   'validatorIndex': 366292}),\n",
       "  AttributeDict({'address': '0xB9D7934878B5FB9610B3fE8A5e441e8fad7E293f',\n",
       "   'amount': 16408638,\n",
       "   'index': 18946175,\n",
       "   'validatorIndex': 366293}),\n",
       "  AttributeDict({'address': '0xB9D7934878B5FB9610B3fE8A5e441e8fad7E293f',\n",
       "   'amount': 16420802,\n",
       "   'index': 18946176,\n",
       "   'validatorIndex': 366294}),\n",
       "  AttributeDict({'address': '0xB9D7934878B5FB9610B3fE8A5e441e8fad7E293f',\n",
       "   'amount': 16406626,\n",
       "   'index': 18946177,\n",
       "   'validatorIndex': 366295}),\n",
       "  AttributeDict({'address': '0xB9D7934878B5FB9610B3fE8A5e441e8fad7E293f',\n",
       "   'amount': 16420098,\n",
       "   'index': 18946178,\n",
       "   'validatorIndex': 366296}),\n",
       "  AttributeDict({'address': '0xB9D7934878B5FB9610B3fE8A5e441e8fad7E293f',\n",
       "   'amount': 16399890,\n",
       "   'index': 18946179,\n",
       "   'validatorIndex': 366297}),\n",
       "  AttributeDict({'address': '0xB9D7934878B5FB9610B3fE8A5e441e8fad7E293f',\n",
       "   'amount': 16426916,\n",
       "   'index': 18946180,\n",
       "   'validatorIndex': 366298}),\n",
       "  AttributeDict({'address': '0xB9D7934878B5FB9610B3fE8A5e441e8fad7E293f',\n",
       "   'amount': 16438215,\n",
       "   'index': 18946181,\n",
       "   'validatorIndex': 366299})],\n",
       " 'withdrawalsRoot': HexBytes('0xc230ceefe482f01d1c14f3427c3c007dba4492e6ff87709474dbe3c02db2d17e')})"
      ]
     },
     "execution_count": 5,
     "metadata": {},
     "output_type": "execute_result"
    }
   ],
   "source": [
    "res = w3.eth.get_block('latest')\n",
    "res"
   ]
  },
  {
   "cell_type": "code",
   "execution_count": 26,
   "metadata": {},
   "outputs": [
    {
     "data": {
      "text/plain": [
       "18219096"
      ]
     },
     "execution_count": 26,
     "metadata": {},
     "output_type": "execute_result"
    }
   ],
   "source": [
    "last_block_num = res.number\n",
    "last_block_num"
   ]
  },
  {
   "cell_type": "code",
   "execution_count": 12,
   "metadata": {},
   "outputs": [
    {
     "data": {
      "text/plain": [
       "HexBytes('0x52ee5b47d7e9d8da6bc4c862b6f6a5dc62c8c714f59b5ac9613231019773178a')"
      ]
     },
     "execution_count": 12,
     "metadata": {},
     "output_type": "execute_result"
    }
   ],
   "source": [
    "tx_id = res.transactions[0]\n",
    "tx_id"
   ]
  },
  {
   "cell_type": "code",
   "execution_count": 14,
   "metadata": {},
   "outputs": [
    {
     "data": {
      "text/plain": [
       "AttributeDict({'accessList': [AttributeDict({'address': '0x9ca78187e5536ba625e5f1ddc51cc0373e1f302c',\n",
       "   'storageKeys': ['0x455d9eab2ba4bccb352d4340457c3c7ad82e1b7e6b5b19f240bd53a8f610effd',\n",
       "    '0x000000000000000000000000000000000000000000000000000000000000000f',\n",
       "    '0x0000000000000000000000000000000000000000000000000000000000000010',\n",
       "    '0xa0b7a198dde78314cf78042b82e8b1ebbb528de3b4d92ac8012d2ae4c1034c40',\n",
       "    '0x0000000000000000000000000000000000000000000000000000000000000000',\n",
       "    '0x0000000000000000000000000000000000000000000000000000000000000013',\n",
       "    '0x9c624a5d083d18dacebe46f8d8d787009a1c3414eac150bbec20649cf01d77e2',\n",
       "    '0x192a790abf8ac3f5cc0ae1f39c494af987d583ad9b878306330a52fadefe144f',\n",
       "    '0x000000000000000000000000000000000000000000000000000000000000000b',\n",
       "    '0x000000000000000000000000000000000000000000000000000000000000000e',\n",
       "    '0x0000000000000000000000000000000000000000000000000000000000000009',\n",
       "    '0x0000000000000000000000000000000000000000000000000000000000000014',\n",
       "    '0x17680248dec3a2b31fb321ab941c0efe7605ef48aab86acfc640717cc6ed14cb',\n",
       "    '0x0000000000000000000000000000000000000000000000000000000000000006',\n",
       "    '0xcbaa98c7ae699ed91ca354adfeeba159d5103f0e23c49a9dd80654f94fb09869']}),\n",
       "  AttributeDict({'address': '0xc02aaa39b223fe8d0a0e5c4f27ead9083c756cc2',\n",
       "   'storageKeys': ['0x28030396561843c1261c8f7b011471cf6b724c29de65fd4d265cc4f222aca442',\n",
       "    '0x9c624a5d083d18dacebe46f8d8d787009a1c3414eac150bbec20649cf01d77e2']}),\n",
       "  AttributeDict({'address': '0xbcd253e2d9cfad99032ad367990e2a06f9651180',\n",
       "   'storageKeys': ['0x000000000000000000000000000000000000000000000000000000000000000c',\n",
       "    '0x0000000000000000000000000000000000000000000000000000000000000008',\n",
       "    '0x0000000000000000000000000000000000000000000000000000000000000006',\n",
       "    '0x0000000000000000000000000000000000000000000000000000000000000007',\n",
       "    '0x0000000000000000000000000000000000000000000000000000000000000009',\n",
       "    '0x000000000000000000000000000000000000000000000000000000000000000a']})],\n",
       " 'blockHash': HexBytes('0x171fa1d88472baeeb7ea13dad68f69655012786efb03bc43c5ee61cf8fa896ec'),\n",
       " 'blockNumber': 18219096,\n",
       " 'chainId': 1,\n",
       " 'from': '0x77ad3a15b78101883AF36aD4A875e17c86AC65d1',\n",
       " 'gas': 177309,\n",
       " 'gasPrice': 30607533175,\n",
       " 'hash': HexBytes('0x52ee5b47d7e9d8da6bc4c862b6f6a5dc62c8c714f59b5ac9613231019773178a'),\n",
       " 'input': '0x47bcd253e2d9cfad99032ad367990e2a06f9651180010aa17a00000000',\n",
       " 'maxFeePerGas': 30607533175,\n",
       " 'maxPriorityFeePerGas': 0,\n",
       " 'nonce': 305056,\n",
       " 'r': HexBytes('0xbec28b8d17a1b745df36905cfb8a443eadb040cb87f76e659d48a5692857ffe0'),\n",
       " 's': HexBytes('0x29c63967a897ec9d1236c213d2cf08f25536c4faab5ea8b5d605af689be91882'),\n",
       " 'to': '0x00000000A991C429eE2Ec6df19d40fe0c80088B8',\n",
       " 'transactionIndex': 0,\n",
       " 'type': 2,\n",
       " 'v': 0,\n",
       " 'value': 100168894,\n",
       " 'yParity': '0x0'})"
      ]
     },
     "execution_count": 14,
     "metadata": {},
     "output_type": "execute_result"
    }
   ],
   "source": [
    "tx = w3.eth.get_transaction(tx_id)\n",
    "tx"
   ]
  },
  {
   "cell_type": "code",
   "execution_count": 16,
   "metadata": {},
   "outputs": [
    {
     "data": {
      "text/plain": [
       "'0x77ad3a15b78101883AF36aD4A875e17c86AC65d1'"
      ]
     },
     "execution_count": 16,
     "metadata": {},
     "output_type": "execute_result"
    }
   ],
   "source": [
    "tx['from']"
   ]
  },
  {
   "cell_type": "code",
   "execution_count": 17,
   "metadata": {},
   "outputs": [
    {
     "data": {
      "text/plain": [
       "'0x00000000A991C429eE2Ec6df19d40fe0c80088B8'"
      ]
     },
     "execution_count": 17,
     "metadata": {},
     "output_type": "execute_result"
    }
   ],
   "source": [
    "tx['to']"
   ]
  },
  {
   "cell_type": "code",
   "execution_count": 18,
   "metadata": {},
   "outputs": [
    {
     "data": {
      "text/plain": [
       "100168894"
      ]
     },
     "execution_count": 18,
     "metadata": {},
     "output_type": "execute_result"
    }
   ],
   "source": [
    "tx['value']"
   ]
  },
  {
   "cell_type": "code",
   "execution_count": 22,
   "metadata": {},
   "outputs": [
    {
     "data": {
      "text/plain": [
       "Decimal('1.00168894E-10')"
      ]
     },
     "execution_count": 22,
     "metadata": {},
     "output_type": "execute_result"
    }
   ],
   "source": [
    "w3.from_wei(tx['value'], 'ether')"
   ]
  },
  {
   "cell_type": "code",
   "execution_count": 38,
   "metadata": {},
   "outputs": [],
   "source": [
    "limit = 3\n",
    "txs = []\n",
    "# last_block_num = X\n",
    "for idx in range(limit):\n",
    "    block_num = last_block_num - idx\n",
    "    res = w3.eth.get_block(block_num)\n",
    "    for idx2, tx_hash in enumerate(res.transactions):\n",
    "        tx_details = w3.eth.get_transaction(tx_hash)\n",
    "        txs.append([\n",
    "            tx_details['from'],\n",
    "            tx_details['to'],\n",
    "            tx_details['value']\n",
    "        ])\n"
   ]
  },
  {
   "cell_type": "code",
   "execution_count": 31,
   "metadata": {},
   "outputs": [
    {
     "data": {
      "text/plain": [
       "1755"
      ]
     },
     "execution_count": 31,
     "metadata": {},
     "output_type": "execute_result"
    }
   ],
   "source": [
    "len(txs)"
   ]
  },
  {
   "cell_type": "code",
   "execution_count": 39,
   "metadata": {},
   "outputs": [
    {
     "data": {
      "text/plain": [
       "['0x77ad3a15b78101883AF36aD4A875e17c86AC65d1',\n",
       " '0x00000000A991C429eE2Ec6df19d40fe0c80088B8',\n",
       " 100168894]"
      ]
     },
     "execution_count": 39,
     "metadata": {},
     "output_type": "execute_result"
    }
   ],
   "source": [
    "txs[0]"
   ]
  },
  {
   "cell_type": "markdown",
   "metadata": {},
   "source": [
    "#### Task\n",
    "\n",
    "1) Create a network from the data collected.\n",
    "2) Compute simple network statistics.\n",
    "3) Plot it, coloring node by a centrality measure of your choice.\n",
    "\n"
   ]
  }
 ],
 "metadata": {
  "kernelspec": {
   "display_name": "base",
   "language": "python",
   "name": "python3"
  },
  "language_info": {
   "codemirror_mode": {
    "name": "ipython",
    "version": 3
   },
   "file_extension": ".py",
   "mimetype": "text/x-python",
   "name": "python",
   "nbconvert_exporter": "python",
   "pygments_lexer": "ipython3",
   "version": "3.9.13"
  },
  "orig_nbformat": 4
 },
 "nbformat": 4,
 "nbformat_minor": 2
}
