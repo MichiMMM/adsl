{
 "cells": [
  {
   "cell_type": "code",
   "execution_count": 1,
   "metadata": {},
   "outputs": [],
   "source": [
    "import requests\n",
    "from typing import Union\n",
    "import json\n",
    "\n",
    "\n",
    "def authenticate(url: str, user: str, password: str):\n",
    "    form_data = {\n",
    "        \"grant_type\": \"password\",\n",
    "        \"username\": user,\n",
    "        \"password\": password\n",
    "    }\n",
    "\n",
    "    access_token = requests.post(\n",
    "        f\"{url}/auth/token\", data=form_data).json()[\"access_token\"]\n",
    "\n",
    "    request_header = {\n",
    "        \"accept\": \"application/json\",\n",
    "        \"Authorization\": f\"Bearer {access_token}\"\n",
    "    }\n",
    "\n",
    "    return access_token, request_header\n",
    "\n",
    "\n",
    "def get_block(url: str, request_header: dict, block_identifier: Union[int, str], full_transactions=False):\n",
    "    params = {\n",
    "        \"block_identifier\": block_identifier,\n",
    "        \"full_transactions\": full_transactions,\n",
    "    }\n",
    "\n",
    "    response = requests.get(\n",
    "        f\"{url}/mainnet/history/block\", params=params, headers=request_header)\n",
    "\n",
    "    return response.json()\n",
    "\n",
    "\n",
    "def get_transaction(url: str, request_header: dict, transaction_hash: str, decode_input: bool = False):\n",
    "    params = {\n",
    "        \"transaction_hash\": transaction_hash,\n",
    "        \"decode_input\": decode_input,\n",
    "    }\n",
    "\n",
    "    response = requests.get(\n",
    "        f\"{url}/mainnet/history/transaction\", params=params, headers=request_header)\n",
    "\n",
    "    return response.json()\n",
    "\n",
    "\n",
    "def get_events(url: str, request_header: dict, contract_address: str, from_block: Union[int, str] = 0, to_block: Union[int, str] = \"latest\", decode_events: bool = False):\n",
    "    params = {\n",
    "        \"contract_address\": contract_address,\n",
    "        \"from_block\": from_block,\n",
    "        \"to_block\": to_block,\n",
    "        \"decode_events\": decode_events,\n",
    "    }\n",
    "\n",
    "    response = requests.get(\n",
    "        f\"{url}/mainnet/contract/events\", params=params, headers=request_header)\n",
    "\n",
    "    return response.json()\n",
    "\n"
   ]
  },
  {
   "cell_type": "code",
   "execution_count": 2,
   "metadata": {},
   "outputs": [],
   "source": [
    "from dotenv import dotenv_values\n",
    "config = dotenv_values(\"../.env\")\n"
   ]
  },
  {
   "cell_type": "code",
   "execution_count": 3,
   "metadata": {},
   "outputs": [],
   "source": [
    "url = config['DESS_NODE_URL']\n",
    "user = config['DESS_NODE_USR']\n",
    "password = config['DESS_NODE_PWD']\n",
    "# if __name__ == \"__main__\":\n",
    "\n",
    "# get access token and request header\n",
    "access_token, request_header = authenticate(url, user, password)\n"
   ]
  },
  {
   "cell_type": "code",
   "execution_count": 6,
   "metadata": {},
   "outputs": [],
   "source": [
    "# request block with number\n",
    "block_identifier = \"latest\"\n",
    "full_transactions = False\n",
    "\n",
    "block = get_block(url, request_header, block_identifier, full_transactions)"
   ]
  },
  {
   "cell_type": "code",
   "execution_count": null,
   "metadata": {},
   "outputs": [],
   "source": [
    "block"
   ]
  },
  {
   "cell_type": "code",
   "execution_count": 8,
   "metadata": {},
   "outputs": [],
   "source": [
    "with open(\"../data/block_dess.json\", \"w\") as f:\n",
    "    json.dump(block, f, indent=4)\n"
   ]
  },
  {
   "cell_type": "code",
   "execution_count": 9,
   "metadata": {},
   "outputs": [],
   "source": [
    "# request single transaction with hash\n",
    "transaction_hash = \"0xd6d0b55a0d12f6d0a23da1d37e99969aca04af0311bd5d69095be7c9fb9b9756\"\n",
    "decode_input = False\n",
    "\n",
    "transaction = get_transaction(\n",
    "    url, request_header, transaction_hash, decode_input)\n",
    "\n",
    "with open(\"../data/transaction_dess.json\", \"w\") as f:\n",
    "    json.dump(transaction, f, indent=4)\n"
   ]
  },
  {
   "cell_type": "code",
   "execution_count": 10,
   "metadata": {},
   "outputs": [],
   "source": [
    "# request events of contract\n",
    "contract_address = \"0x889edC2eDab5f40e902b864aD4d7AdE8E412F9B1\"\n",
    "from_block = 18122866\n",
    "to_block = \"latest\"\n",
    "decode_events = False\n",
    "\n",
    "events = get_events(url, request_header, contract_address,\n",
    "                    from_block, to_block, decode_events)\n",
    "\n",
    "with open(\"../data/events_dess.json\", \"w\") as f:\n",
    "    json.dump(events, f, indent=4)"
   ]
  }
 ],
 "metadata": {
  "kernelspec": {
   "display_name": "base",
   "language": "python",
   "name": "python3"
  },
  "language_info": {
   "codemirror_mode": {
    "name": "ipython",
    "version": 3
   },
   "file_extension": ".py",
   "mimetype": "text/x-python",
   "name": "python",
   "nbconvert_exporter": "python",
   "pygments_lexer": "ipython3",
   "version": "3.9.13"
  },
  "orig_nbformat": 4
 },
 "nbformat": 4,
 "nbformat_minor": 2
}
