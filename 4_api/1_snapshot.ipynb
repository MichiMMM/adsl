{
 "cells": [
  {
   "cell_type": "markdown",
   "metadata": {},
   "source": [
    "## Snapshot and GraphQL"
   ]
  },
  {
   "cell_type": "code",
   "execution_count": 1,
   "metadata": {},
   "outputs": [],
   "source": [
    "import requests\n",
    "import pandas as pd\n",
    "import numpy as np"
   ]
  },
  {
   "cell_type": "markdown",
   "metadata": {},
   "source": [
    "Snapshot Endpoints\n",
    "\n",
    "https://docs.snapshot.org/"
   ]
  },
  {
   "cell_type": "code",
   "execution_count": 2,
   "metadata": {},
   "outputs": [],
   "source": [
    "ENDPOINT_DEMO = 'https://testnet.snapshot.org/graphql'\n",
    "\n",
    "ENDPOINT_PRO = 'https://hub.snapshot.org/graphql'\n",
    "\n",
    "\n",
    "ENDPOINT = ENDPOINT_PRO\n"
   ]
  },
  {
   "cell_type": "markdown",
   "metadata": {},
   "source": [
    "We can make GraphQL queries with standard POST requests."
   ]
  },
  {
   "cell_type": "code",
   "execution_count": 3,
   "metadata": {},
   "outputs": [],
   "source": [
    "# https://datagy.io/python-requests-authentication/\n",
    "\n",
    "def api(query, params=None):\n",
    "\n",
    "    response = requests.post(ENDPOINT,\n",
    "                            headers={                      \n",
    "                                'accept': 'application/json'\n",
    "                            },\n",
    "                            params={\n",
    "                                'query': query\n",
    "                            })\n",
    "\n",
    "    print(response)\n",
    "    return response.json()['data']\n"
   ]
  },
  {
   "cell_type": "code",
   "execution_count": 4,
   "metadata": {},
   "outputs": [
    {
     "name": "stdout",
     "output_type": "stream",
     "text": [
      "<Response [200]>\n"
     ]
    }
   ],
   "source": [
    "query = \"\"\"\n",
    "query {\n",
    "  space(id: \"yam.eth\") {\n",
    "    id\n",
    "    name\n",
    "    about\n",
    "    network\n",
    "    symbol\n",
    "    members\n",
    "  }\n",
    "}\n",
    "\"\"\"\n",
    "\n",
    "res = api(query)"
   ]
  },
  {
   "cell_type": "code",
   "execution_count": 5,
   "metadata": {},
   "outputs": [
    {
     "data": {
      "text/plain": [
       "{'space': {'id': 'yam.eth',\n",
       "  'name': 'Yam',\n",
       "  'about': 'Only delegated YAM may be used to vote on proposals. You can delegate to yourself or another address here: yam.finance/#/delegate',\n",
       "  'network': '1',\n",
       "  'symbol': 'YAM',\n",
       "  'members': ['0x683A78bA1f6b25E29fbBC9Cd1BFA29A51520De84',\n",
       "   '0xC3edCBe0F93a6258c3933e86fFaA3bcF12F8D695',\n",
       "   '0xEC3281124d4c2FCA8A88e3076C1E7749CfEcb7F2']}}"
      ]
     },
     "execution_count": 5,
     "metadata": {},
     "output_type": "execute_result"
    }
   ],
   "source": [
    "res\n"
   ]
  },
  {
   "cell_type": "code",
   "execution_count": 6,
   "metadata": {},
   "outputs": [
    {
     "name": "stdout",
     "output_type": "stream",
     "text": [
      "<Response [200]>\n"
     ]
    }
   ],
   "source": [
    "query = \"\"\"\n",
    "query {\n",
    "  spaces(\n",
    "    first: 20,\n",
    "    skip: 0,\n",
    "    orderBy: \"created\",\n",
    "    orderDirection: asc\n",
    "  ) {\n",
    "    id\n",
    "    name\n",
    "    about\n",
    "    network\n",
    "    symbol\n",
    "    strategies {\n",
    "      name\n",
    "      params\n",
    "    }\n",
    "    admins\n",
    "    members\n",
    "    filters {\n",
    "      minScore\n",
    "      onlyMembers\n",
    "    }\n",
    "    plugins\n",
    "  }\n",
    "}\n",
    "\"\"\"\n",
    "\n",
    "res = api(query)"
   ]
  },
  {
   "cell_type": "code",
   "execution_count": null,
   "metadata": {},
   "outputs": [],
   "source": [
    "\n",
    "res"
   ]
  },
  {
   "cell_type": "markdown",
   "metadata": {},
   "source": [
    "What if want to fetch all spaces? It's a bit cumbersome with standard POST requests, but we can use the [gql](https://pypi.org/project/gql/) client. "
   ]
  },
  {
   "cell_type": "markdown",
   "metadata": {},
   "source": [
    "#### GQL Client"
   ]
  },
  {
   "cell_type": "code",
   "execution_count": 8,
   "metadata": {},
   "outputs": [],
   "source": [
    "# !pip install gql\n",
    "# !pip install aiohttp \n",
    "from gql import gql, Client\n",
    "from gql.transport.aiohttp import AIOHTTPTransport\n"
   ]
  },
  {
   "cell_type": "code",
   "execution_count": 9,
   "metadata": {},
   "outputs": [],
   "source": [
    "transport = AIOHTTPTransport(url=ENDPOINT)\n",
    "client = Client(\n",
    "    transport=transport\n",
    "    #fetch_schema_from_transport=True\n",
    ")\n"
   ]
  },
  {
   "cell_type": "markdown",
   "metadata": {},
   "source": [
    "Let's test a simple query.\n",
    "First, we need build it, when we execute it.\n",
    "\n",
    "_Note:_ gql will throw an error if the query is malformed."
   ]
  },
  {
   "cell_type": "code",
   "execution_count": 10,
   "metadata": {},
   "outputs": [],
   "source": [
    "space_query = gql(\n",
    "\"\"\"\n",
    "query {\n",
    "space(id: \"yam.eth\") {\n",
    "    id\n",
    "    name\n",
    "    about\n",
    "    network\n",
    "    symbol\n",
    "    members\n",
    "    }\n",
    "}\n",
    "\"\"\")"
   ]
  },
  {
   "cell_type": "code",
   "execution_count": null,
   "metadata": {},
   "outputs": [],
   "source": [
    "## Error in Jupyter-like environments.\n",
    "result = client.execute(space_query)\n",
    "print(result)"
   ]
  },
  {
   "cell_type": "code",
   "execution_count": 12,
   "metadata": {},
   "outputs": [
    {
     "name": "stdout",
     "output_type": "stream",
     "text": [
      "{'space': {'id': 'yam.eth', 'name': 'Yam', 'about': 'Only delegated YAM may be used to vote on proposals. You can delegate to yourself or another address here: yam.finance/#/delegate', 'network': '1', 'symbol': 'YAM', 'members': ['0x683A78bA1f6b25E29fbBC9Cd1BFA29A51520De84', '0xC3edCBe0F93a6258c3933e86fFaA3bcF12F8D695', '0xEC3281124d4c2FCA8A88e3076C1E7749CfEcb7F2']}}\n"
     ]
    }
   ],
   "source": [
    "result = await client.execute_async(space_query)\n",
    "print(result)"
   ]
  },
  {
   "cell_type": "markdown",
   "metadata": {},
   "source": [
    "#### GraphQL Variables\n",
    "\n",
    "Now we want to fetch _all_ spaces.\n",
    "\n",
    "We need to use a special feature of GraphQL, that is the ability to pass **variables** into queries.\n",
    "\n",
    "Variables are identified by the dollar sign `$` and must indicate their type (e.g., `Int`). \n",
    "\n",
    "If a variable is mandatory, it is followed by an exclamation mark."
   ]
  },
  {
   "cell_type": "code",
   "execution_count": 13,
   "metadata": {},
   "outputs": [],
   "source": [
    "spaces_query = gql(\"\"\"\n",
    "  query ($first: Int!, $skip: Int!) {\n",
    "    spaces(\n",
    "      first: $first,\n",
    "      skip: $skip,\n",
    "      orderBy: \"created\",\n",
    "      orderDirection: asc\n",
    "    ) \n",
    "    {\n",
    "      id\n",
    "      name\n",
    "      about\n",
    "      network\n",
    "      symbol\n",
    "      strategies {\n",
    "        name\n",
    "        params\n",
    "      }\n",
    "      admins\n",
    "      members\n",
    "      filters {\n",
    "        minScore\n",
    "        onlyMembers\n",
    "      }\n",
    "      plugins\n",
    "    }\n",
    "  }\n",
    "\"\"\")\n"
   ]
  },
  {
   "cell_type": "code",
   "execution_count": 14,
   "metadata": {},
   "outputs": [],
   "source": [
    "## spaces_tmp is a temp variable we can use to store partial computations\n",
    "## in case an error (e.g., a timeout) occurs\n",
    "spaces_tmp = []"
   ]
  },
  {
   "cell_type": "code",
   "execution_count": 15,
   "metadata": {},
   "outputs": [
    {
     "name": "stdout",
     "output_type": "stream",
     "text": [
      "1000\n",
      "2000\n",
      "3000\n",
      "4000\n",
      "5000\n",
      "6000\n",
      "7000\n",
      "8000\n",
      "9000\n",
      "10000\n",
      "11000\n",
      "12000\n",
      "13000\n",
      "14000\n",
      "15000\n",
      "16000\n",
      "17000\n",
      "18000\n",
      "19000\n",
      "20000\n",
      "21000\n",
      "22000\n",
      "23000\n",
      "24000\n",
      "25000\n",
      "26000\n",
      "27000\n",
      "28000\n",
      "29000\n",
      "30000\n",
      "31000\n"
     ]
    },
    {
     "ename": "TransportQueryError",
     "evalue": "{'message': 'The `skip` argument must not be greater than 30000', 'locations': [{'line': 2, 'column': 3}], 'path': ['spaces']}",
     "output_type": "error",
     "traceback": [
      "\u001b[1;31m---------------------------------------------------------------------------\u001b[0m",
      "\u001b[1;31mTransportQueryError\u001b[0m                       Traceback (most recent call last)",
      "\u001b[1;32mc:\\Users\\stefa\\www\\adsl\\4_api\\0_snapshot.ipynb Cell 22\u001b[0m line \u001b[0;36m8\n\u001b[0;32m      <a href='vscode-notebook-cell:/c%3A/Users/stefa/www/adsl/4_api/0_snapshot.ipynb#X30sZmlsZQ%3D%3D?line=5'>6</a>\u001b[0m \u001b[39mwhile\u001b[39;00m fetch:\n\u001b[0;32m      <a href='vscode-notebook-cell:/c%3A/Users/stefa/www/adsl/4_api/0_snapshot.ipynb#X30sZmlsZQ%3D%3D?line=6'>7</a>\u001b[0m     \u001b[39mvars\u001b[39m \u001b[39m=\u001b[39m {\u001b[39m\"\u001b[39m\u001b[39mfirst\u001b[39m\u001b[39m\"\u001b[39m: first, \u001b[39m\"\u001b[39m\u001b[39mskip\u001b[39m\u001b[39m\"\u001b[39m: skip}\n\u001b[1;32m----> <a href='vscode-notebook-cell:/c%3A/Users/stefa/www/adsl/4_api/0_snapshot.ipynb#X30sZmlsZQ%3D%3D?line=7'>8</a>\u001b[0m     res \u001b[39m=\u001b[39m \u001b[39mawait\u001b[39;00m client\u001b[39m.\u001b[39mexecute_async(spaces_query, variable_values\u001b[39m=\u001b[39m\u001b[39mvars\u001b[39m)\n\u001b[0;32m      <a href='vscode-notebook-cell:/c%3A/Users/stefa/www/adsl/4_api/0_snapshot.ipynb#X30sZmlsZQ%3D%3D?line=8'>9</a>\u001b[0m     \u001b[39m# print(type(res))\u001b[39;00m\n\u001b[0;32m     <a href='vscode-notebook-cell:/c%3A/Users/stefa/www/adsl/4_api/0_snapshot.ipynb#X30sZmlsZQ%3D%3D?line=9'>10</a>\u001b[0m     \u001b[39m# print(res)\u001b[39;00m\n\u001b[0;32m     <a href='vscode-notebook-cell:/c%3A/Users/stefa/www/adsl/4_api/0_snapshot.ipynb#X30sZmlsZQ%3D%3D?line=11'>12</a>\u001b[0m     \u001b[39mif\u001b[39;00m \u001b[39mnot\u001b[39;00m res[\u001b[39m'\u001b[39m\u001b[39mspaces\u001b[39m\u001b[39m'\u001b[39m]:\n",
      "File \u001b[1;32mc:\\Users\\stefa\\anaconda3\\lib\\site-packages\\gql\\client.py:285\u001b[0m, in \u001b[0;36mClient.execute_async\u001b[1;34m(self, document, variable_values, operation_name, serialize_variables, parse_result, get_execution_result, **kwargs)\u001b[0m\n\u001b[0;32m    283\u001b[0m \u001b[39m\"\"\":meta private:\"\"\"\u001b[39;00m\n\u001b[0;32m    284\u001b[0m \u001b[39masync\u001b[39;00m \u001b[39mwith\u001b[39;00m \u001b[39mself\u001b[39m \u001b[39mas\u001b[39;00m session:\n\u001b[1;32m--> 285\u001b[0m     \u001b[39mreturn\u001b[39;00m \u001b[39mawait\u001b[39;00m session\u001b[39m.\u001b[39mexecute(\n\u001b[0;32m    286\u001b[0m         document,\n\u001b[0;32m    287\u001b[0m         variable_values\u001b[39m=\u001b[39mvariable_values,\n\u001b[0;32m    288\u001b[0m         operation_name\u001b[39m=\u001b[39moperation_name,\n\u001b[0;32m    289\u001b[0m         serialize_variables\u001b[39m=\u001b[39mserialize_variables,\n\u001b[0;32m    290\u001b[0m         parse_result\u001b[39m=\u001b[39mparse_result,\n\u001b[0;32m    291\u001b[0m         get_execution_result\u001b[39m=\u001b[39mget_execution_result,\n\u001b[0;32m    292\u001b[0m         \u001b[39m*\u001b[39m\u001b[39m*\u001b[39mkwargs,\n\u001b[0;32m    293\u001b[0m     )\n",
      "File \u001b[1;32mc:\\Users\\stefa\\anaconda3\\lib\\site-packages\\gql\\client.py:1231\u001b[0m, in \u001b[0;36mAsyncClientSession.execute\u001b[1;34m(self, document, variable_values, operation_name, serialize_variables, parse_result, get_execution_result, **kwargs)\u001b[0m\n\u001b[0;32m   1229\u001b[0m \u001b[39m# Raise an error if an error is returned in the ExecutionResult object\u001b[39;00m\n\u001b[0;32m   1230\u001b[0m \u001b[39mif\u001b[39;00m result\u001b[39m.\u001b[39merrors:\n\u001b[1;32m-> 1231\u001b[0m     \u001b[39mraise\u001b[39;00m TransportQueryError(\n\u001b[0;32m   1232\u001b[0m         \u001b[39mstr\u001b[39m(result\u001b[39m.\u001b[39merrors[\u001b[39m0\u001b[39m]),\n\u001b[0;32m   1233\u001b[0m         errors\u001b[39m=\u001b[39mresult\u001b[39m.\u001b[39merrors,\n\u001b[0;32m   1234\u001b[0m         data\u001b[39m=\u001b[39mresult\u001b[39m.\u001b[39mdata,\n\u001b[0;32m   1235\u001b[0m         extensions\u001b[39m=\u001b[39mresult\u001b[39m.\u001b[39mextensions,\n\u001b[0;32m   1236\u001b[0m     )\n\u001b[0;32m   1238\u001b[0m \u001b[39massert\u001b[39;00m (\n\u001b[0;32m   1239\u001b[0m     result\u001b[39m.\u001b[39mdata \u001b[39mis\u001b[39;00m \u001b[39mnot\u001b[39;00m \u001b[39mNone\u001b[39;00m\n\u001b[0;32m   1240\u001b[0m ), \u001b[39m\"\u001b[39m\u001b[39mTransport returned an ExecutionResult without data or errors\u001b[39m\u001b[39m\"\u001b[39m\n\u001b[0;32m   1242\u001b[0m \u001b[39mif\u001b[39;00m get_execution_result:\n",
      "\u001b[1;31mTransportQueryError\u001b[0m: {'message': 'The `skip` argument must not be greater than 30000', 'locations': [{'line': 2, 'column': 3}], 'path': ['spaces']}"
     ]
    }
   ],
   "source": [
    "## Fetch'em all!\n",
    "spaces = spaces_tmp\n",
    "first = 1000\n",
    "skip = len(spaces)\n",
    "fetch = True\n",
    "while fetch:\n",
    "    vars = {\"first\": first, \"skip\": skip}\n",
    "    res = await client.execute_async(spaces_query, variable_values=vars)\n",
    "    # print(type(res))\n",
    "    # print(res)\n",
    "    \n",
    "    if not res['spaces']:\n",
    "        print('**I am done fetching!**')\n",
    "        fetch = False\n",
    "    else:\n",
    "        spaces.extend(res['spaces'])\n",
    "        print(len(spaces))\n",
    "        skip += first# fetch = False\n"
   ]
  },
  {
   "cell_type": "code",
   "execution_count": 17,
   "metadata": {},
   "outputs": [
    {
     "data": {
      "text/plain": [
       "31000"
      ]
     },
     "execution_count": 17,
     "metadata": {},
     "output_type": "execute_result"
    }
   ],
   "source": [
    "len(spaces)\n"
   ]
  },
  {
   "cell_type": "markdown",
   "metadata": {},
   "source": [
    "Let's put everything in a Pandas data frame."
   ]
  },
  {
   "cell_type": "code",
   "execution_count": 21,
   "metadata": {},
   "outputs": [],
   "source": [
    "df = pd.DataFrame(spaces)\n",
    "\n",
    "df['id'] = df['id'].astype('string')\n",
    "df['name'] = df['name'].astype('string')\n",
    "df['about'] = df['about'].astype('string')\n",
    "# df['logo'] = df['logo'].astype('string')"
   ]
  },
  {
   "cell_type": "code",
   "execution_count": 25,
   "metadata": {},
   "outputs": [],
   "source": [
    "df.to_json(\"../data/daos_snapshot.json\", orient=\"records\")\n",
    "\n",
    "## Visually explore the saved file.\n",
    "# Is it a mess? Prettify it with VS Code auto-formatter. \n",
    "# Don't you remember the shorcut? Check our python_warmup lecture.\n",
    " "
   ]
  },
  {
   "cell_type": "code",
   "execution_count": null,
   "metadata": {},
   "outputs": [],
   "source": [
    "df.head()\n"
   ]
  },
  {
   "cell_type": "markdown",
   "metadata": {},
   "source": [
    "Now let's create a function to make our life easier.\n",
    "\n",
    "The function `gql_all` will fetch all paginated responses from an endpoint until it returns an empty response.\n",
    "\n",
    "_Notice:_ the _async_ keyword and the _try/except_ statement"
   ]
  },
  {
   "cell_type": "code",
   "execution_count": 24,
   "metadata": {},
   "outputs": [],
   "source": [
    "async def gql_all(query, field, first=1000, skip=0, initial_list=None, \n",
    "                  counter = True):\n",
    "\n",
    "    out = []\n",
    "    \n",
    "    if initial_list:\n",
    "        out = initial_list\n",
    "        skip = len(out)\n",
    "\n",
    "    fetch = True\n",
    "    try:\n",
    "        while fetch:\n",
    "            vars = {\"first\": first, \"skip\": skip}\n",
    "            res = await client.execute_async(query, variable_values=vars)\n",
    "            # print(type(res))\n",
    "            # print(res)\n",
    "            \n",
    "            if not res[field]:\n",
    "                print('**I am done fetching!**')\n",
    "                fetch = False\n",
    "            else:\n",
    "                out.extend(res[field])\n",
    "                skip += first# fetch = False\n",
    "                if counter: print(len(out))\n",
    "    except:\n",
    "        print(\"**An error occurred, exiting early.**\")\n",
    "    \n",
    "    return out"
   ]
  },
  {
   "cell_type": "code",
   "execution_count": 25,
   "metadata": {},
   "outputs": [
    {
     "name": "stdout",
     "output_type": "stream",
     "text": [
      "1000\n",
      "2000\n",
      "3000\n",
      "4000\n",
      "5000\n",
      "6000\n",
      "7000\n",
      "8000\n",
      "9000\n",
      "10000\n",
      "11000\n",
      "12000\n",
      "13000\n",
      "14000\n",
      "15000\n",
      "16000\n",
      "17000\n",
      "18000\n",
      "19000\n",
      "20000\n",
      "21000\n",
      "22000\n",
      "23000\n",
      "24000\n",
      "25000\n",
      "26000\n",
      "27000\n",
      "28000\n",
      "29000\n",
      "30000\n",
      "31000\n",
      "**An error occurred, exiting early.**\n"
     ]
    }
   ],
   "source": [
    "res = await gql_all(spaces_query, \"spaces\")"
   ]
  },
  {
   "cell_type": "code",
   "execution_count": 27,
   "metadata": {},
   "outputs": [
    {
     "data": {
      "text/plain": [
       "31000"
      ]
     },
     "execution_count": 27,
     "metadata": {},
     "output_type": "execute_result"
    }
   ],
   "source": [
    "len(res)"
   ]
  }
 ],
 "metadata": {
  "kernelspec": {
   "display_name": "Python 3.9.1 64-bit",
   "language": "python",
   "name": "python3"
  },
  "language_info": {
   "codemirror_mode": {
    "name": "ipython",
    "version": 3
   },
   "file_extension": ".py",
   "mimetype": "text/x-python",
   "name": "python",
   "nbconvert_exporter": "python",
   "pygments_lexer": "ipython3",
   "version": "3.9.13"
  },
  "orig_nbformat": 4,
  "vscode": {
   "interpreter": {
    "hash": "c32e70da788b7e7a251586b987d2c569d373765eb2af3ced0674c402bf99c5a2"
   }
  }
 },
 "nbformat": 4,
 "nbformat_minor": 2
}
